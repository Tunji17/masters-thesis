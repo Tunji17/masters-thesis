{
 "cells": [
  {
   "cell_type": "markdown",
   "id": "59099304",
   "metadata": {},
   "source": [
    "## Graph Information Extraction from clinical notes\n"
   ]
  },
  {
   "cell_type": "code",
   "execution_count": 1,
   "id": "c4928ccc",
   "metadata": {},
   "outputs": [
    {
     "name": "stdout",
     "output_type": "stream",
     "text": [
      "NumPy version: 2.2.5\n",
      "Transformers version: 4.51.3\n",
      "Datasets version: 3.6.0\n",
      "\n",
      "All required packages imported successfully!\n",
      "The NumPy compatibility issue appears to be resolved.\n",
      "\n",
      "Data directory 'src/data' does not exist yet. It will be created when running the extraction.\n"
     ]
    }
   ],
   "source": [
    "# Verify environment after fixing\n",
    "import numpy as np\n",
    "import transformers\n",
    "import datasets\n",
    "import os\n",
    "import traceback\n",
    "\n",
    "print(f\"NumPy version: {np.__version__}\")\n",
    "print(f\"Transformers version: {transformers.__version__}\")\n",
    "print(f\"Datasets version: {datasets.__version__}\")\n",
    "\n",
    "# Also check if packages can be imported without errors\n",
    "try:\n",
    "    # Try to import some commonly used modules\n",
    "    import pandas as pd\n",
    "    from gliner import GLiNER\n",
    "    # from relik import Relik\n",
    "\n",
    "    print(\"\\nAll required packages imported successfully!\")\n",
    "    print(\"The NumPy compatibility issue appears to be resolved.\")\n",
    "\n",
    "    # Check if the data directory exists\n",
    "    data_dir = \"src/data\"\n",
    "    if os.path.exists(data_dir):\n",
    "        print(f\"\\nData directory '{data_dir}' exists.\")\n",
    "        # List any files in the directory\n",
    "        files = os.listdir(data_dir)\n",
    "        if files:\n",
    "            print(f\"Files in directory: {', '.join(files)}\")\n",
    "        else:\n",
    "            print(\"No files in directory yet.\")\n",
    "    else:\n",
    "        print(f\"\\nData directory '{data_dir}' does not exist yet. It will be created when running the extraction.\")\n",
    "    \n",
    "except Exception as e:\n",
    "    print(f\"\\nError importing packages: {e}\")\n",
    "    print(\"You may need to reinstall additional packages or restart the kernel.\")"
   ]
  },
  {
   "cell_type": "code",
   "execution_count": 2,
   "id": "11cd2f56",
   "metadata": {},
   "outputs": [
    {
     "name": "stdout",
     "output_type": "stream",
     "text": [
      "\n",
      "Sample 1:\n",
      "├─sample:\n",
      "│ ├─idx: 155216\n",
      "│ ├─note: A a sixteen year-old girl, presented to our Outpatient department with the complaints of discomfort in the neck and lower back as well as restriction of body movements. She was not able to maintain an erect posture and would tend to fall on either side while standing up from a sitting position. She would keep her head turned to the right and upwards due to the sustained contraction of the neck muscles. There was a sideways bending of the back in the lumbar region. To counter the abnormal positioning of the back and neck, she would keep her limbs in a specific position to allow her body weight to be supported. Due to the restrictions with the body movements at the neck and in the lumbar region, she would require assistance in standing and walking. She would require her parents to help her with daily chores, including all activities of self-care.\n",
      "She had been experiencing these difficulties for the past four months since when she was introduced to olanzapine tablets for the control of her exacerbated mental illness. This was not her first experience with this drug over the past seven years since she had been diagnosed with bipolar affective disorder. Her first episode of the affective disorder was that of mania at the age of eleven which was managed with the use of olanzapine tablets in 2.5–10 mg doses per day at different times. The patient developed pain and discomfort in her neck within the second week of being put on tablet olanzapine at a dose of 5 mg per day. This was associated with a sustained and abnormal contraction of the neck muscles that would pull her head to the right in an upward direction. These features had persisted for the first three years of her illness with a varying intensity, distress, and dysfunction which would tend to correlate with the dose of olanzapine. Apart from a brief period of around three weeks when she was given tablet trihexyphenidyl 4 mg per day for rigidity in her upper limbs, she was not prescribed any other psychotropic medication. The rigidity showed good response to this medication which was subsequently\n",
      "│ ├─full_note: A a sixteen year-old girl, presented to our Outpatient department with the complaints of discomfort in the neck and lower back as well as restriction of body movements. She was not able to maintain an erect posture and would tend to fall on either side while standing up from a sitting position. She would keep her head turned to the right and upwards due to the sustained contraction of the neck muscles. There was a sideways bending of the back in the lumbar region. To counter the abnormal positioning of the back and neck, she would keep her limbs in a specific position to allow her body weight to be supported. Due to the restrictions with the body movements at the neck and in the lumbar region, she would require assistance in standing and walking. She would require her parents to help her with daily chores, including all activities of self-care.\\nShe had been experiencing these difficulties for the past four months since when she was introduced to olanzapine tablets for the control of her exacerbated mental illness. This was not her first experience with this drug over the past seven years since she had been diagnosed with bipolar affective disorder. Her first episode of the affective disorder was that of mania at the age of eleven which was managed with the use of olanzapine tablets in 2.5–10 mg doses per day at different times. The patient developed pain and discomfort in her neck within the second week of being put on tablet olanzapine at a dose of 5 mg per day. This was associated with a sustained and abnormal contraction of the neck muscles that would pull her head to the right in an upward direction. These features had persisted for the first three years of her illness with a varying intensity, distress, and dysfunction which would tend to correlate with the dose of olanzapine. Apart from a brief period of around three weeks when she was given tablet trihexyphenidyl 4 mg per day for rigidity in her upper limbs, she was not prescribed any other psychotropic medication. The rigidity showed good response to this medication which was subsequently stopped. The introduction and subsequent withdrawal of this medication did not bring about any change in the sustained abnormal contraction of her neck muscles.\\nImprovement and subsequent remission of the mood symptoms of the patient provided the treatment team with an opportunity to stop olanzapine. The discomfort in the neck and the abnormal movement of the neck muscles persisted over the next three months’ period when she was off olanzapine without any significant change, even with a trial of propranolol, trihexyphenidyl, and phenargan injection. Reintroduction of olanzapine (at a dose of 2.5 mg per day) after a gap of three months for the reemergence of some behavioral features led to a slight aggravation of the already existing abnormal movement and posturing of the neck.\\nWith improvement in the clinical picture, olanzapine was reduced and stopped. She was put on tablet sodium valproate, 1000 mg per day during this period for the stabilization of her mood when she was also given escitalopram for a period of three months for her depressive features. The patient responded well to this change in medication, but she developed amenorrhea for which no cause was established after a detailed gynecological evaluation. Keeping in mind the possibility of valproate-induced menstrual disturbance, she was shifted to tablet lithium 450 mg per day. The patient was well maintained on this medication for a period of around two years. However, she developed hypothyroidism for which eltroxin was introduced at a dose of 50 micrograms per day.\\nDuring this period of two years and seven months, the abnormal contraction of the neck muscles and the abnormal positioning of the head improved slightly, and with the improvement, it would cause less discomfort and interference in her activities. However, these movements failed to disappear completely. Another exacerbation of the mood symptoms in the form of mania warranted a need for the introduction of olanzapine (by a different treatment team) and the patient was reintroduced to 10 mg olanzapine on a daily basis, which led to the current presentation as described earlier.\\nAfter the case was seen at our institute, the psychotropic medications were stopped as her mood symptoms had remitted and she was put on tablet tetrabenazine (built up to 75 mg per day in divided doses) with which the patient had started showing some response with an improvement in abnormal movements of the muscles of the neck as well as the back. She is now able to stand with support and can do some daily chores on her own. The pain and discomfort in the back and neck have also reduced.\\nDuring the course of the illness, the patient has been investigated for the presence of any neurological illness as the cause of her abnormal movements. Her MRI scan of the brain, serum and urine copper levels, slit lamp microscopy for the KF ring, complete blood count, TLC, DLC, and USG of the abdomen did not reveal any abnormalities. Her thyroid function tests were deranged subsequent to the introduction of tablet lithium carbonate which was restored to normal after the introduction of tablet eltroxin.\\nDystonia is a syndrome of sustained muscle contractions that produce twisting and repetitive movements or abnormal postures. The descriptions of the extent and severity of muscle involvement are variable, ranging from intermittent contraction limited to a single body region, to generalized dystonia involving the limbs and axial muscles.\\nEver since the introduction of the term, “dystonia” by Oppenhiem in the early part of the twentieth century, it has been an area of focused attention of the neurologists. In 1973, Keegan and Rajput introduced the term, “” to describe drug-induced, sustained muscle spasm causing repetitive movements or abnormal postures. “” was a term introduced by Burke in 1982, the description of which required the presence of chronic dystonia, a history of antipsychotic drug treatment preceding or concurrent with the onset of dystonia, the exclusion of known causes of secondary dystonia by appropriate clinical and laboratory evaluation, and a negative family history of dystonia for definitive diagnosis.\\nThe dystonia could be classified based on the region(s) of the body involved. Involvement of isolated regions like the face, neck, and arms would be labeled as focal dystonia, whereas simultaneous involvement of two or more contiguous areas would be called segmental dystonia. When the clinical picture is that of involvement of two or more noncontiguous regions, the label used is, “multifocal” and the involvement of one leg and one other body region makes it the generalized type.\\nThe symptoms of tardive dystonia could begin even after a few days or weeks of exposure to the offending agent. Tardive dystonia is prevalent in 0.5–21.6% of the patients who are treated with neuroleptics.\\nThe syndrome of tardive dystonia has been reported with most of the typical antipsychotics.[] It has been associated with the atypical antipsychotics, namely risperidone, olanzapine, quetiapine, and aripiprazole. Reports of tardive dystonia developing with the use of atypical antipsychotics have been predominantly in the cases of nonaffective psychosis and in the adult population in the age ranges of the midthirties and forties. Our case is the first case of an affective illness in an adolescent girl developing tardive dystonia on olanzapine. The aggravation of the clinical features with the inadvertent reintroduction of the medication suggests olanzapine is the offending agent. With the growing acceptance of olanzapine as the first-line therapy for the manic phase of bipolar illness and as a mood stabilizer for the maintenance therapy, one needs to be cautious about the emergence of this troublesome adverse effect of this therapy. The patient has shown some response to the introduction of tetrabenazine.\n",
      "│ ├─conversation: Doctor: Good morning, what brings you to the Outpatient department today?\n",
      "Patient: Good morning doctor, I have some discomfort in my neck and lower back, and I'm not able to maintain an erect posture.\n",
      "Doctor: Hmm, okay. Can you tell me more about the discomfort?\n",
      "Patient: Yes, I tend to fall on either side when I stand up from a sitting position, and my head is always turned to the right and upwards.\n",
      "Doctor: I see. Are you experiencing any pain in your neck?\n",
      "Patient: Yes, I have pain and discomfort in my neck.\n",
      "Doctor: Okay. And what about your back?\n",
      "Patient: There is a sideways bending in my lumbar region. To counter the abnormal positioning of my back and neck, I have to keep my limbs in a specific position to allow my body weight to be supported.\n",
      "Doctor: I understand. Does this restriction of body movements affect your daily life?\n",
      "Patient: Yes, I need assistance in standing and walking, and my parents have to help me with my daily chores, including all activities of self-care.\n",
      "Doctor: I see. How long have you been experiencing these difficulties?\n",
      "Patient: I've been experiencing these difficulties for the past four months since I was introduced to olanzapine tablets for the control of my exacerbated mental illness.\n",
      "Doctor: I see. And you've been diagnosed with bipolar affective disorder, correct?\n",
      "Patient: Yes, I was diagnosed with bipolar affective disorder seven years ago.\n",
      "Doctor: And you've been taking olanzapine for your mental illness for seven years, correct?\n",
      "Patient: Yes, I have. My first episode of the affective disorder was mania when I was eleven, and I've been taking olanzapine tablets in 2.5-10 mg doses per day at different times.\n",
      "Doctor: I see. So, you developed pain and discomfort in your neck within the second week of being put on olanzapine at a dose of 5 mg per day, correct?\n",
      "Patient: Yes, that's correct. The sustained and abnormal contraction of my neck muscles pulls my head to the right in an upward direction.\n",
      "Doctor: I see. And these features have persisted for the first three years of your illness with a varying intensity, distress, and dysfunction, correct?\n",
      "Patient: Yes, that's correct. The intensity, distress, and dysfunction tend to correlate with the dose of olanzapine.\n",
      "Doctor: I see. And apart from a brief period of around three weeks when you were given trihexyphenidyl 4 mg per day for rigidity in your upper limbs, you were not prescribed any other psychotropic medication, correct?\n",
      "Patient: Yes, that's correct. The rigidity showed good response to trihexyphenidyl 4 mg per day.\n",
      "Doctor: Okay. I'm going to order some tests for you, and I'll be able to give you a proper diagnosis after that.\n",
      "Patient: Okay, doctor.\n",
      "Doctor: I'll also instruct you on follow-up requirements.\n",
      "Patient: Okay, thank you, doctor.\n",
      "│ ├─summary: {\n",
      "\"visit motivation\": \"Discomfort in the neck and lower back, restriction of body movements, inability to maintain an erect posture, and requiring assistance in standing and walking.\",\n",
      "\"admission\": [\n",
      "{\n",
      "\"reason\": \"None\",\n",
      "\"date\": \"None\",\n",
      "\"duration\": \"None\",\n",
      "\"care center details\": \"None\"\n",
      "}\n",
      "],\n",
      "\"patient information\": {\n",
      "\"age\": \"Sixteen years old\",\n",
      "\"sex\": \"Female\",\n",
      "\"ethnicity\": \"None\",\n",
      "\"weight\": \"None\",\n",
      "\"height\": \"None\",\n",
      "\"family medical history\": \"None\",\n",
      "\"recent travels\": \"None\",\n",
      "\"socio economic context\": \"None\",\n",
      "\"occupation\": \"None\"\n",
      "},\n",
      "\"patient medical history\": {\n",
      "\"physiological context\": \"None\",\n",
      "\"psychological context\": \"Diagnosed with bipolar affective disorder at the age of eleven, first episode was that of mania.\",\n",
      "\"vaccination history\": \"None\",\n",
      "\"allergies\": \"None\",\n",
      "\"exercise frequency\": \"None\",\n",
      "\"nutrition\": \"None\",\n",
      "\"sexual history\": \"None\",\n",
      "\"alcohol consumption\": \"None\",\n",
      "\"drug usage\": \"None\",\n",
      "\"smoking status\": \"None\"\n",
      "},\n",
      "\"surgeries\": [\n",
      "{\n",
      "\"reason\": \"None\",\n",
      "\"Type\": \"None\",\n",
      "\"time\": \"None\",\n",
      "\"outcome\": \"None\",\n",
      "\"details\": \"None\"\n",
      "}\n",
      "],\n",
      "\"symptoms\": [\n",
      "{\n",
      "\"name of symptom\": \"Discomfort in the neck and lower back, restriction of body movements, inability to maintain an erect posture\",\n",
      "\"intensity of symptom\": \"None\",\n",
      "\"location\": \"Neck and lower back\",\n",
      "\"time\": \"Past four months\",\n",
      "\"temporalisation\": \"None\",\n",
      "\"behaviours affecting the symptom\": \"Standing up from a sitting position\",\n",
      "\"details\": \"Head turned to the right and upwards due to sustained contraction of neck muscles, sideways bending of the back in the lumbar region, limbs positioned to support body weight.\"\n",
      "}\n",
      "],\n",
      "\"medical examinations\": [\n",
      "{\n",
      "\"name\": \"None\",\n",
      "\"result\": \"None\",\n",
      "\"details\": \"None\"\n",
      "}\n",
      "],\n",
      "\"diagnosis tests\": [\n",
      "{\n",
      "\"test\": \"None\",\n",
      "\"severity\": \"None\",\n",
      "\"result\": \"None\",\n",
      "\"condition\": \"None\",\n",
      "\"time\": \"None\",\n",
      "\"details\": \"None\"\n",
      "}\n",
      "],\n",
      "\"treatments\": [\n",
      "{\n",
      "\"name\": \"Olanzapine tablets\",\n",
      "\"related condition\": \"Bipolar affective disorder\",\n",
      "\"dosage\": \"5 mg per day\",\n",
      "\"time\": \"Past four months\",\n",
      "\"frequency\": \"Daily\",\n",
      "\"duration\": \"None\",\n",
      "\"reason for taking\": \"Control of exacerbated mental illness\",\n",
      "\"reaction to treatment\": \"Pain and discomfort in neck, sustained and abnormal contraction of neck muscles, requiring assistance in daily chores\",\n",
      "\"details\": \"Previously managed with olanzapine tablets in 2.5–10 mg doses per day at different times over the past seven years.\"\n",
      "},\n",
      "{\n",
      "\"name\": \"Trihexyphenidyl\",\n",
      "\"related condition\": \"Rigidity in upper limbs\",\n",
      "\"dosage\": \"4 mg per day\",\n",
      "\"time\": \"Brief period of around three weeks\",\n",
      "\"frequency\": \"Daily\",\n",
      "\"duration\": \"None\",\n",
      "\"reason for taking\": \"Rigidity in upper limbs\",\n",
      "\"reaction to treatment\": \"Good response\",\n",
      "\"details\": \"None\"\n",
      "}\n",
      "],\n",
      "\"discharge\": {\n",
      "\"reason\": \"None\",\n",
      "\"referral\": \"None\",\n",
      "\"follow up\": \"None\",\n",
      "\"discharge summary\": \"None\"\n",
      "}\n",
      "}\n",
      "\n",
      "Sample 2:\n",
      "├─sample:\n",
      "│ ├─idx: 77465\n",
      "│ ├─note: This is the case of a 56-year-old man that was complaining of a dump pain on the right back and a swelling right in this place for several weeks. The patient was in good state and very active. There was not any health problem in the past except a thoracic trauma at work one year ago. In that time the patient was diagnosed with a simple fracture of the 9th right rib without any other consequences.\n",
      "On the X-ray was seen a shadow in the lower part of the right hemithorax. After that, it was decided to perform a CT-scan of the thorax that revealed a tumor of the thoracic wall in the right hemithorax that measured 8 × 4 cm and had a heterogeneous density inside of it. The tumor had involved and destructed the 9th rib and was lying even in two adjacent intercostal spaces, but without involving the lung and muscular layers. On lung window of the CT-scan were seen micronodular infiltrations of both lungs with diameters up to 5 mm and only one nodule in lower lobe of the right lung with diameter almost 1 cm (). The mediastinum was without enlarged lymph nodes and no other lesion was seen in adjacent organs. The conclusion of the radiologist was that probably this was the case of a malignant tumor of the thoracic wall with secondary lesions in both lungs and a biopsy of the tumor was recommended.\n",
      "Because there was not a correlation between the clinical picture of the patient and the conclusion of the radiology it was decided to perform frozen biopsy of the lesions of the right lung and an excision biopsy of the tumor of the thoracic wall. So, through a small posterior thoracotomy at 7th intercostal space were sampled five nodular lesions from the right lung and a sample from the tumor. None of these samples resulted positive (no malignant cells found) after frozen biopsy. In such conditions was considered as more realistic the option of performing an oncologic resection of the tumor of the thoracic wall. (We resected three ribs where the 8th and\n",
      "│ ├─full_note: This is the case of a 56-year-old man that was complaining of a dump pain on the right back and a swelling right in this place for several weeks. The patient was in good state and very active. There was not any health problem in the past except a thoracic trauma at work one year ago. In that time the patient was diagnosed with a simple fracture of the 9th right rib without any other consequences.\\nOn the X-ray was seen a shadow in the lower part of the right hemithorax. After that, it was decided to perform a CT-scan of the thorax that revealed a tumor of the thoracic wall in the right hemithorax that measured 8 × 4 cm and had a heterogeneous density inside of it. The tumor had involved and destructed the 9th rib and was lying even in two adjacent intercostal spaces, but without involving the lung and muscular layers. On lung window of the CT-scan were seen micronodular infiltrations of both lungs with diameters up to 5 mm and only one nodule in lower lobe of the right lung with diameter almost 1 cm (). The mediastinum was without enlarged lymph nodes and no other lesion was seen in adjacent organs. The conclusion of the radiologist was that probably this was the case of a malignant tumor of the thoracic wall with secondary lesions in both lungs and a biopsy of the tumor was recommended.\\nBecause there was not a correlation between the clinical picture of the patient and the conclusion of the radiology it was decided to perform frozen biopsy of the lesions of the right lung and an excision biopsy of the tumor of the thoracic wall. So, through a small posterior thoracotomy at 7th intercostal space were sampled five nodular lesions from the right lung and a sample from the tumor. None of these samples resulted positive (no malignant cells found) after frozen biopsy. In such conditions was considered as more realistic the option of performing an oncologic resection of the tumor of the thoracic wall. (We resected three ribs where the 8th and 10th ribs were macroscopically free of the tumor. The resection was extended 10 cm anteriorly from the tumor and posteriorly it was accompanied by disarticulation of the ribs and partial resection of transversal processes of 8th, 9th, and 10th vertebras.) After that, we have performed a plastic procedure with polypropylene mesh in double layers to correct the defect. The clinical course of the patient was very good and five days later he was discharged from the hospital in very good condition. The conclusion of biopsy for both the tumor of thoracic wall and the lung nodules was sclerosing xanthofibroma which is considered by most people to be a tumor with different clinical and radiological features. Lesions were characterized by a network of anastomosing bone trabeculae without osteoblast lining within a fibrous stroma ().\\nReferring to the follow-up, the patient was in a great state of health and from the first month after the surgery he turned back at his work place. Two years after the surgery the thoracic CT-scan showed neither recurrences of the lesions of the thoracic wall nor new developments on the lungs.\n",
      "│ ├─conversation: Doctor: Hi, how are you feeling today?\n",
      "Patient: Hi doctor, I have this dump pain on my right back and a swelling right there for several weeks.\n",
      "Doctor: Hmm, I see. Can you describe the pain a little more?\n",
      "Patient: It's like a dull ache and it hurts more when I move.\n",
      "Doctor: Okay. I understand. And you said you're in good state and very active?\n",
      "Patient: Yes, I am.\n",
      "Doctor: That's good to hear. Have you had any health problems in the past?\n",
      "Patient: Well, I had a thoracic trauma at work one year ago.\n",
      "Doctor: I see. And what was the diagnosis for that?\n",
      "Patient: I was diagnosed with a simple fracture of the 9th right rib.\n",
      "Doctor: Okay. After the X-ray, we decided to perform a CT-scan of the thorax, and it revealed a tumor of the thoracic wall in the right hemithorax.\n",
      "Patient: Really?\n",
      "Doctor: Yes, it measured 8 × 4 cm and had a heterogeneous density inside of it. The tumor had involved and destructed the 9th rib and was lying even in two adjacent intercostal spaces.\n",
      "Patient: That sounds serious.\n",
      "Doctor: Yes, it is. But the good news is that it didn't involve the lung and muscular layers. On lung window of the CT-scan, we saw micronodular infiltrations of both lungs with diameters up to 5 mm and only one nodule in lower lobe of the right lung with diameter almost 1 cm.\n",
      "Patient: Hmm.\n",
      "Doctor: The mediastinum was without enlarged lymph nodes and no other lesion was seen in adjacent organs. The conclusion of the radiologist was that probably this was the case of a malignant tumor of the thoracic wall with secondary lesions in both lungs.\n",
      "Patient: So what do we do now?\n",
      "Doctor: We need to perform a biopsy of the tumor to confirm the diagnosis.\n",
      "Patient: Okay.\n",
      "Doctor: Because there was not a correlation between the clinical picture of the patient and the conclusion of the radiology, we decided to perform frozen biopsy of the lesions of the right lung and an excision biopsy of the tumor of the thoracic wall.\n",
      "Patient: And what happened after that?\n",
      "Doctor: Through a small posterior thoracotomy at 7th intercostal space, we sampled five nodular lesions from the right lung and a sample from the tumor. None of these samples resulted positive for malignant cells.\n",
      "Patient: That's great!\n",
      "Doctor: Yes, it is. In such conditions, we considered it more realistic to perform an oncologic resection of the tumor of the thoracic wall.\n",
      "Patient: What does that mean?\n",
      "Doctor: We resected three ribs where the 8th and 9th ribs were involved in the tumor.\n",
      "Patient: Okay.\n",
      "Doctor: You need to follow up with us regularly to make sure everything is going well.\n",
      "Patient: Of course, doctor. Thank you.\n",
      "│ ├─summary: {\n",
      "\"visit motivation\": \"Complaints of a dull pain on the right back and a swelling in the same area\",\n",
      "\"admission\": [\n",
      "{\n",
      "\"reason\": \"None\",\n",
      "\"date\": \"None\",\n",
      "\"duration\": \"None\",\n",
      "\"care center details\": \"None\"\n",
      "}\n",
      "],\n",
      "\"patient information\": {\n",
      "\"age\": \"56\",\n",
      "\"sex\": \"Male\",\n",
      "\"ethnicity\": \"None\",\n",
      "\"weight\": \"None\",\n",
      "\"height\": \"None\",\n",
      "\"family medical history\": \"None\",\n",
      "\"recent travels\": \"None\",\n",
      "\"socio economic context\": \"None\",\n",
      "\"occupation\": \"None\"\n",
      "},\n",
      "\"patient medical history\": {\n",
      "\"physiological context\": \"No health problems in the past except a thoracic trauma at work one year ago with a simple fracture of the 9th right rib\",\n",
      "\"psychological context\": \"None\",\n",
      "\"vaccination history\": \"None\",\n",
      "\"allergies\": \"None\",\n",
      "\"exercise frequency\": \"Very active\",\n",
      "\"nutrition\": \"None\",\n",
      "\"sexual history\": \"None\",\n",
      "\"alcohol consumption\": \"None\",\n",
      "\"drug usage\": \"None\",\n",
      "\"smoking status\": \"None\"\n",
      "},\n",
      "\"surgeries\": [\n",
      "{\n",
      "\"reason\": \"Malignant tumor of the thoracic wall with secondary lesions in both lungs\",\n",
      "\"Type\": \"Oncologic resection of the tumor of the thoracic wall\",\n",
      "\"time\": \"None\",\n",
      "\"outcome\": \"\"None\" of the samples resulted positive for malignant cells after frozen biopsy\",\n",
      "\"details\": \"Resection included three ribs where the 8th and (note incomplete)\"\n",
      "}\n",
      "],\n",
      "\"symptoms\": [\n",
      "{\n",
      "\"name of symptom\": \"Dull pain and swelling\",\n",
      "\"intensity of symptom\": \"None\",\n",
      "\"location\": \"Right back\",\n",
      "\"time\": \"Several weeks\",\n",
      "\"temporalisation\": \"None\",\n",
      "\"behaviours affecting the symptom\": \"None\",\n",
      "\"details\": \"None\"\n",
      "}\n",
      "],\n",
      "\"medical examinations\": [\n",
      "{\n",
      "\"name\": \"X-ray\",\n",
      "\"result\": \"Shadow in the lower part of the right hemithorax\",\n",
      "\"details\": \"None\"\n",
      "},\n",
      "{\n",
      "\"name\": \"CT-scan of the thorax\",\n",
      "\"result\": \"Tumor of the thoracic wall in the right hemithorax measuring 8 × 4 cm with heterogeneous density, destruction of the 9th rib, involvement of two adjacent intercostal spaces, micronodular infiltrations of both lungs, and a nodule in the lower lobe of the right lung\",\n",
      "\"details\": \"Tumor did not involve lung and muscular layers; mediastinum was without enlarged lymph nodes; no other lesion in adjacent organs\"\n",
      "}\n",
      "],\n",
      "\"diagnosis tests\": [\n",
      "{\n",
      "\"test\": \"Biopsy of the tumor and lesions of the right lung\",\n",
      "\"severity\": \"None\",\n",
      "\"result\": \"No malignant cells found\",\n",
      "\"condition\": \"Suspected malignant tumor of the thoracic wall with secondary lesions in both lungs\",\n",
      "\"time\": \"None\",\n",
      "\"details\": \"Frozen biopsy performed; samples taken through a small posterior thoracotomy at 7th intercostal space\"\n",
      "}\n",
      "],\n",
      "\"treatments\": [\n",
      "{\n",
      "\"name\": \"None\",\n",
      "\"related condition\": \"None\",\n",
      "\"dosage\": \"None\",\n",
      "\"time\": \"None\",\n",
      "\"frequency\": \"None\",\n",
      "\"duration\": \"None\",\n",
      "\"reason for taking\": \"None\",\n",
      "\"reaction to treatment\": \"None\",\n",
      "\"details\": \"None\"\n",
      "}\n",
      "],\n",
      "\"discharge\": {\n",
      "\"reason\": \"None\",\n",
      "\"referral\": \"None\",\n",
      "\"follow up\": \"None\",\n",
      "\"discharge summary\": \"None\"\n",
      "}\n",
      "}\n",
      "\n",
      "Sample 3:\n",
      "├─sample:\n",
      "│ ├─idx: 133948\n",
      "│ ├─note: A 36-year old female patient visited our hospital with a chief complaint of pain and restricted range of motion (ROM) in the left hip joint persisting for two months. Physical examination of the patient revealed severe gait disturbance secondary to hip pain aggravated by hip joint flexion or rotation. The patient had no lifestyle habits or specific comorbidities thought to cause femoral head AVN. An anteroposterior view of the left hip revealed sclerosis and collapse of the femoral head and dysplasia of the hip (). The magnetic resonance imaging (MRI) scan revealed an increased amount of joint fluid and bone marrow edema in the left hip, and femoral head necrosis was detected on the contralateral side; however, the patient did not complain of any pain (). The patient underwent THA after being diagnosed with idiopathic osteonecrosis of the femoral head, was discharged in good condition three weeks after the surgery without specific complications, and followed up via regular outpatient visits. The patient complained of pain and limited ROM in the contralateral hip joint and gait disturbance one year after the initial surgery. Her symptoms continued for two months and increased over the following three weeks. Repeat MRI revealed similar findings to those noted previously in the left hip (). A second THA was performed (one year after the first THA of the left hip); the patient was discharged in good condition after the surgery without specific complications and followed up via regular outpatient visits (). At the time of the second surgery, the patient was 7 kg heavier than she was at the time of the first procedure and developed a moderate moon face, signs that were initially overlooked as weight gain. Subsequently, the patient complained of intensifying feelings of helplessness and central obesity and muscle mass reduction in both the upper and lower limbs aggravated over a three-month period of outpatient follow-up after the second surgery. However, these signs were not significant enough to warrant further investigation. One year after the second surgery, the patient was referred to the Department of Cardiology in our hospital due to a progressive worsening of central\n",
      "│ ├─full_note: A 36-year old female patient visited our hospital with a chief complaint of pain and restricted range of motion (ROM) in the left hip joint persisting for two months. Physical examination of the patient revealed severe gait disturbance secondary to hip pain aggravated by hip joint flexion or rotation. The patient had no lifestyle habits or specific comorbidities thought to cause femoral head AVN. An anteroposterior view of the left hip revealed sclerosis and collapse of the femoral head and dysplasia of the hip (). The magnetic resonance imaging (MRI) scan revealed an increased amount of joint fluid and bone marrow edema in the left hip, and femoral head necrosis was detected on the contralateral side; however, the patient did not complain of any pain (). The patient underwent THA after being diagnosed with idiopathic osteonecrosis of the femoral head, was discharged in good condition three weeks after the surgery without specific complications, and followed up via regular outpatient visits. The patient complained of pain and limited ROM in the contralateral hip joint and gait disturbance one year after the initial surgery. Her symptoms continued for two months and increased over the following three weeks. Repeat MRI revealed similar findings to those noted previously in the left hip (). A second THA was performed (one year after the first THA of the left hip); the patient was discharged in good condition after the surgery without specific complications and followed up via regular outpatient visits (). At the time of the second surgery, the patient was 7 kg heavier than she was at the time of the first procedure and developed a moderate moon face, signs that were initially overlooked as weight gain. Subsequently, the patient complained of intensifying feelings of helplessness and central obesity and muscle mass reduction in both the upper and lower limbs aggravated over a three-month period of outpatient follow-up after the second surgery. However, these signs were not significant enough to warrant further investigation. One year after the second surgery, the patient was referred to the Department of Cardiology in our hospital due to a progressive worsening of central obesity and muscle mass reduction of the limbs and hot flushes. She was diagnosed with hypertension due to high blood pressure and electrolyte inbalance and prescribed medication. She was suspected of having secondary hypertension, and abdominal computed tomography (CT) and echocardiography were conducted. Although echocardiography yielded no specific findings, abdominal CT detected a 2.5 cm benign adrenal adenoma (). The patient was immediately referred to the Department of Endocrinology to be screened for Cushing's syndrome. During screening, a 24-hour urine free cortisol revealed an elevation to 394.3 µg/day (normal, >50 µg/day) and a plasma cortisol level of 29.0 µg/dL (normal, <5.0 µg/dL) was noted based on the results of a 48-hour low-dose dexamethasone suppression test. A plasma adrenocorticotropic hormone (ACTH) of 21.5 pg/mL (normal range, 6–76 pg/mL) and cortisol levels between 17.3 and 19.9 µg/day in a high-dose dexamethasone test confirmed Cushing's syndrome. A suspected cause was ectopic ACTH-producing tumors due to an adrenocortical adenoma. An in-depth history was then undertaken. The patient disregarded advice to undergo regular monitoring of a small abdominal mass found in a regular check-up done several years before her first visit to our hospital. At the time, she had menstrual irregularity, mild weight gain, depression and intermittent facial skin problems–clinical signs associated with Cushing's syndrome. We determined that asymptomatic AI developed into symptomatic Cushing's syndrome, and the patient underwent laparoscopic partial adrenalectomy after referral to our urology department (). Histopathological examination confirmed cortical adenoma. Six months after the procedure, Cushing's syndrome-related symptoms completely disappeared, including feelings of helplessness and central obesity. The patient is currently under outpatient observation without any specific symptoms.\\nThe patient's informed consent and institutional review board's clearance were obtained for the purpose of publication of a case report. This article was approved by Gwangju Veterans Hospital at July 2, 2018 (project number, GVHIRB 18-0023).\n",
      "│ ├─conversation: Doctor: Hello, what brings you to the hospital today?\n",
      "Patient: Hi, I have been experiencing pain and restricted range of motion in my left hip joint for two months now. I also have a gait disturbance.\n",
      "Doctor: I see. Can you tell me more about your chief complaint?\n",
      "Patient: Sure. I have been having severe pain in my left hip that gets worse when I try to flex or rotate it. And my gait is also affected because of the pain.\n",
      "Doctor: Hmm, I understand. Can you tell me if you have any lifestyle habits or comorbidities that may have caused this?\n",
      "Patient: No, I don't think so.\n",
      "Doctor: Alright. Let me take a look at your physical examination results.\n",
      "[Doctor examines patient's physical examination results]\n",
      "Doctor: Yes, it looks like you have a severe gait disturbance secondary to hip pain, which is aggravated by hip joint flexion or rotation. And it also says here that there is no lifestyle habits or comorbidities thought to cause femoral head AVN.\n",
      "Patient: Hmm.\n",
      "Doctor: An anteroposterior view of your left hip revealed sclerosis and collapse of the femoral head and dysplasia of the hip. And the magnetic resonance imaging scan showed an increased amount of joint fluid and bone marrow edema in your left hip.\n",
      "Patient: Okay.\n",
      "Doctor: And we also detected femoral head necrosis on the contralateral side, but you didn't complain of any pain.\n",
      "Patient: That's correct.\n",
      "Doctor: So, based on the results, we diagnosed you with idiopathic osteonecrosis of the femoral head. And you underwent THA for treatment.\n",
      "Patient: Yes, I did.\n",
      "Doctor: And it says here that you were discharged in good condition three weeks after the surgery without specific complications, and you followed up via regular outpatient visits.\n",
      "Patient: Yes, that's right.\n",
      "Doctor: But then, you complained of pain and limited ROM in the contralateral hip joint and gait disturbance one year after the initial surgery. And your symptoms continued for two months and increased over the following three weeks.\n",
      "Patient: Yes, that's correct.\n",
      "Doctor: And then, you underwent a second THA one year after the first THA of the left hip. And you were discharged in good condition after the surgery without specific complications, and followed up via regular outpatient visits.\n",
      "Patient: Yes, that's right.\n",
      "Doctor: At the time of the second surgery, you were 7 kg heavier than you were at the time of the first procedure and developed a moderate moon face, signs that were initially overlooked as weight gain.\n",
      "Patient: Yes, that's correct.\n",
      "Doctor: And then, you complained of intensifying feelings of helplessness and central obesity and muscle mass reduction in both the upper and lower limbs, which were aggravated over a three-month period of outpatient follow-up after the second surgery.\n",
      "Patient: Yes, that's right.\n",
      "Doctor: But these signs were not significant enough to warrant further investigation. And one year after the second surgery, you were referred to the Department of Cardiology in our hospital due to a progressive worsening of central.\n",
      "Patient: Yes, that's correct.\n",
      "│ ├─summary: {\n",
      "\"visit motivation\": \"Pain and restricted range of motion in the left hip joint\",\n",
      "\"admission\": [\n",
      "{\n",
      "\"reason\": \"Idiopathic osteonecrosis of the femoral head\",\n",
      "\"date\": \"None\",\n",
      "\"duration\": \"Three weeks\",\n",
      "\"care center details\": \"None\"\n",
      "},\n",
      "{\n",
      "\"reason\": \"Pain and limited ROM in the contralateral hip joint and gait disturbance\",\n",
      "\"date\": \"One year after the initial surgery\",\n",
      "\"duration\": \"None\",\n",
      "\"care center details\": \"None\"\n",
      "}\n",
      "],\n",
      "\"patient information\": {\n",
      "\"age\": \"36 years old\",\n",
      "\"sex\": \"Female\",\n",
      "\"ethnicity\": \"None\",\n",
      "\"weight\": \"7 kg heavier than at the time of the first procedure\",\n",
      "\"height\": \"None\",\n",
      "\"family medical history\": \"None\",\n",
      "\"recent travels\": \"None\",\n",
      "\"socio economic context\": \"None\",\n",
      "\"occupation\": \"None\"\n",
      "},\n",
      "\"patient medical history\": {\n",
      "\"physiological context\": \"None\",\n",
      "\"psychological context\": \"Intensifying feelings of helplessness\",\n",
      "\"vaccination history\": \"None\",\n",
      "\"allergies\": \"None\",\n",
      "\"exercise frequency\": \"None\",\n",
      "\"nutrition\": \"None\",\n",
      "\"sexual history\": \"None\",\n",
      "\"alcohol consumption\": \"None\",\n",
      "\"drug usage\": \"None\",\n",
      "\"smoking status\": \"None\"\n",
      "},\n",
      "\"surgeries\": [\n",
      "{\n",
      "\"reason\": \"Idiopathic osteonecrosis of the femoral head\",\n",
      "\"Type\": \"Total Hip Arthroplasty (THA)\",\n",
      "\"time\": \"After diagnosis\",\n",
      "\"outcome\": \"Discharged in good condition without specific complications\",\n",
      "\"details\": \"First THA on the left hip\"\n",
      "},\n",
      "{\n",
      "\"reason\": \"Pain and limited ROM in the contralateral hip joint\",\n",
      "\"Type\": \"Total Hip Arthroplasty (THA)\",\n",
      "\"time\": \"One year after the first THA\",\n",
      "\"outcome\": \"Discharged in good condition without specific complications\",\n",
      "\"details\": \"Second THA on the contralateral hip\"\n",
      "}\n",
      "],\n",
      "\"symptoms\": [\n",
      "{\n",
      "\"name of symptom\": \"Pain\",\n",
      "\"intensity of symptom\": \"Severe\",\n",
      "\"location\": \"Left hip joint\",\n",
      "\"time\": \"Persisting for two months\",\n",
      "\"temporalisation\": \"Increased over the following three weeks\",\n",
      "\"behaviours affecting the symptom\": \"Aggravated by hip joint flexion or rotation\",\n",
      "\"details\": \"Also complained of pain and limited ROM in the contralateral hip joint one year after initial surgery\"\n",
      "},\n",
      "{\n",
      "\"name of symptom\": \"Restricted range of motion\",\n",
      "\"intensity of symptom\": \"None\",\n",
      "\"location\": \"Left hip joint\",\n",
      "\"time\": \"Persisting for two months\",\n",
      "\"temporalisation\": \"None\",\n",
      "\"behaviours affecting the symptom\": \"None\",\n",
      "\"details\": \"None\"\n",
      "},\n",
      "{\n",
      "\"name of symptom\": \"Gait disturbance\",\n",
      "\"intensity of symptom\": \"Severe\",\n",
      "\"location\": \"None\",\n",
      "\"time\": \"None\",\n",
      "\"temporalisation\": \"None\",\n",
      "\"behaviours affecting the symptom\": \"Secondary to hip pain\",\n",
      "\"details\": \"Continued for two months and increased over the following three weeks\"\n",
      "},\n",
      "{\n",
      "\"name of symptom\": \"Moderate moon face\",\n",
      "\"intensity of symptom\": \"Moderate\",\n",
      "\"location\": \"Face\",\n",
      "\"time\": \"At the time of the second surgery\",\n",
      "\"temporalisation\": \"None\",\n",
      "\"behaviours affecting the symptom\": \"None\",\n",
      "\"details\": \"Initially overlooked as weight gain\"\n",
      "},\n",
      "{\n",
      "\"name of symptom\": \"Central obesity\",\n",
      "\"intensity of symptom\": \"None\",\n",
      "\"location\": \"Central body\",\n",
      "\"time\": \"Aggravated over a three-month period of outpatient follow-up after the second surgery\",\n",
      "\"temporalisation\": \"None\",\n",
      "\"behaviours affecting the symptom\": \"None\",\n",
      "\"details\": \"None\"\n",
      "},\n",
      "{\n",
      "\"name of symptom\": \"Muscle mass reduction\",\n",
      "\"intensity of symptom\": \"None\",\n",
      "\"location\": \"Both the upper and lower limbs\",\n",
      "\"time\": \"Aggravated over a three-month period of outpatient follow-up after the second surgery\",\n",
      "\"temporalisation\": \"None\",\n",
      "\"behaviours affecting the symptom\": \"None\",\n",
      "\"details\": \"None\"\n",
      "}\n",
      "],\n",
      "\"medical examinations\": [\n",
      "{\n",
      "\"name\": \"Physical examination\",\n",
      "\"result\": \"Severe gait disturbance secondary to hip pain\",\n",
      "\"details\": \"Aggravated by hip joint flexion or rotation\"\n",
      "},\n",
      "{\n",
      "\"name\": \"Anteroposterior view of the left hip\",\n",
      "\"result\": \"Sclerosis and collapse of the femoral head and dysplasia of the hip\",\n",
      "\"details\": \"None\"\n",
      "}\n",
      "],\n",
      "\"diagnosis tests\": [\n",
      "{\n",
      "\"test\": \"Magnetic resonance imaging (MRI) scan\",\n",
      "\"severity\": \"None\",\n",
      "\"result\": \"Increased amount of joint fluid and bone marrow edema in the left hip, and femoral head necrosis on the contralateral side\",\n",
      "\"condition\": \"Idiopathic osteonecrosis of the femoral head\",\n",
      "\"time\": \"None\",\n",
      "\"details\": \"Patient did not complain of any pain on the contralateral side at the time of the first MRI\"\n",
      "},\n",
      "{\n",
      "\"test\": \"Repeat MRI\",\n",
      "\"severity\": \"None\",\n",
      "\"result\": \"Similar findings to those noted previously in the left hip\",\n",
      "\"condition\": \"None\",\n",
      "\"time\": \"One year after the initial surgery and symptoms continued for two months and increased over the following three weeks\",\n",
      "\"details\": \"None\"\n",
      "}\n",
      "],\n",
      "\"treatments\": \"None\",\n",
      "\"discharge\": {\n",
      "\"reason\": \"Good condition post-surgery\",\n",
      "\"referral\": \"Referred to the Department of Cardiology due to a progressive worsening of central\",\n",
      "\"follow up\": \"Regular outpatient visits\",\n",
      "\"discharge summary\": \"Discharged in good condition after both surgeries without specific complications\"\n",
      "}\n",
      "}\n",
      "\n",
      "Sample 4:\n",
      "├─sample:\n",
      "│ ├─idx: 80176\n",
      "│ ├─note: A 49-year-old male presented with a complaint of pain in the left proximal forearm after a fall. The patient had a history of left elbow arthrodesis performed for posttraumatic arthritis at the age of 18. On physical examination he was tender at the proximal ulna. He had no active flexion or extension at his elbow, which was fused at 90 degrees but achieved 40 degrees of pronation and 60 degrees of supination. His motor and sensory exam was normal at the hand. Radiographs of the forearm and the elbow revealed an elbow arthrodesis at 90 degrees with retained hardware and a minimally displaced proximal ulnar shaft fracture (). A decision was made to treat his ulnar shaft fracture closed in a cast, and he subsequently developed a hypertrophic nonunion. At his clinic visit three months after the fall, surgical options for the ulna nonunion were discussed with the patient. We proceeded with conservative treatment for an additional three months, with worsening motion through the nonunion site. He revealed that he was unhappy with the functional limitations of his elbow arthrodesis and inquired about the possibility of converting it to an arthroplasty. The risks of elbow arthroplasty were discussed with the patient at length. Increasing the functional capacity of his arm was his ultimate goal, and understanding that he faced a likely operation for the ulna nonunion, the patient wished to proceed. Due to the patient's prior surgery and history of trauma, as well as risk of infection, we chose to avoid multiple surgeries and combine the repair of nonunion and the conversion of elbow arthrodesis to arthroplasty into one procedure. The stem of the ulnar component would thus act as an intramedullary device.\n",
      "In the operating room the patient was placed in a supine position and a posterior incision centered over the elbow was performed. A prior muscle flap that was used for soft tissue coverage at his index procedure had to be elevated. The ulnar nerve was encased in scar tissue and required a meticulous neuroplasty. A triceps splitting approach to the elbow joint was then performed and multiple buried pins\n",
      "│ ├─full_note: A 49-year-old male presented with a complaint of pain in the left proximal forearm after a fall. The patient had a history of left elbow arthrodesis performed for posttraumatic arthritis at the age of 18. On physical examination he was tender at the proximal ulna. He had no active flexion or extension at his elbow, which was fused at 90 degrees but achieved 40 degrees of pronation and 60 degrees of supination. His motor and sensory exam was normal at the hand. Radiographs of the forearm and the elbow revealed an elbow arthrodesis at 90 degrees with retained hardware and a minimally displaced proximal ulnar shaft fracture (). A decision was made to treat his ulnar shaft fracture closed in a cast, and he subsequently developed a hypertrophic nonunion. At his clinic visit three months after the fall, surgical options for the ulna nonunion were discussed with the patient. We proceeded with conservative treatment for an additional three months, with worsening motion through the nonunion site. He revealed that he was unhappy with the functional limitations of his elbow arthrodesis and inquired about the possibility of converting it to an arthroplasty. The risks of elbow arthroplasty were discussed with the patient at length. Increasing the functional capacity of his arm was his ultimate goal, and understanding that he faced a likely operation for the ulna nonunion, the patient wished to proceed. Due to the patient's prior surgery and history of trauma, as well as risk of infection, we chose to avoid multiple surgeries and combine the repair of nonunion and the conversion of elbow arthrodesis to arthroplasty into one procedure. The stem of the ulnar component would thus act as an intramedullary device.\\nIn the operating room the patient was placed in a supine position and a posterior incision centered over the elbow was performed. A prior muscle flap that was used for soft tissue coverage at his index procedure had to be elevated. The ulnar nerve was encased in scar tissue and required a meticulous neuroplasty. A triceps splitting approach to the elbow joint was then performed and multiple buried pins were removed from the humerus []. A wedge osteotomy of the arthrodesis site was then performed and the fusion taken down (). This was performed at the apex of the arthrodesis site with the humeral cut at 90 degrees to the long axis of the humerus and the ulnar cut at 45 degrees to the long axis of the ulna. The cuts were done in this manner to better accommodate the stems of the prosthesis. Resection of the humerus was greater than normal to allow for appropriate range of motion (ROM) of the elbow without undue tension on the neurovascular structures, which had been in this position for over 30 years. Resection of the radial head was performed as it was markedly arthritic. After preparation of the canals, a Stryker distal humeral replacement system was used to perform the total elbow arthroplasty (MRS (Stryker, Kalamazoo, MI)). Intraoperatively, the patient had full flexion and extension of the elbow and full pronation and supination. His muscles were properly tensioned without undue strain on the neurovascular structures. The patient's ulnar nonunion was also addressed with bone graft taken from the resected radial head. He had an uncomplicated hospital course and was allowed full ROM on postoperative day #2. At his 4.5-month appointment, the patient was achieving 0–110° elbow active elbow flexion/extension, as well as nearly full forearm rotation. He was experiencing minimal pain and was happy with the function of his prosthesis. The patient was able to return to work with an elbow brace that he locked at work. Radiographs showed a healed ulna nonunion and a stable total elbow prosthesis without signs of loosening (). Multiple attempts to contact the patient for further follow-up have been unsuccessful.\n",
      "│ ├─conversation: Doctor: Good morning, Mr. [Patient's Name]. I'm Dr. [Doctor's Name]. What brings you in today?\n",
      "Patient: Good morning, doctor. I have a pain in my left arm after a fall.\n",
      "Doctor: I see. Can you tell me more about the fall and the pain you're experiencing?\n",
      "Patient: I fell and hit my left arm about three months ago. The pain has been getting worse and I can't move my arm as well as I used to.\n",
      "Doctor: Hmm, I understand. I see from your medical history that you had a surgery on your left elbow for posttraumatic arthritis when you were 18. Is that correct?\n",
      "Patient: Yes, that's correct.\n",
      "Doctor: Okay. I'd like to do a physical examination to see what's going on. Can you describe the pain you're feeling?\n",
      "Patient: It's a sharp pain in my left proximal forearm.\n",
      "Doctor: Alright. I'll examine your arm now. Can you move your arm for me?\n",
      "Patient: No, I can't. My elbow is fused at 90 degrees and I can only do 40 degrees of pronation and 60 degrees of supination.\n",
      "Doctor: I see. Your motor and sensory exam is normal at the hand, right?\n",
      "Patient: Yes, that's correct.\n",
      "Doctor: Alright. We have taken some radiographs of your forearm and elbow. They showed a minimally displaced proximal ulnar shaft fracture and an elbow arthrodesis at 90 degrees with retained hardware.\n",
      "Patient: Hmm, okay.\n",
      "Doctor: After your fall, you developed a hypertrophic nonunion of your ulnar shaft fracture, and we treated it with a cast for three months. But your motion through the nonunion site worsened, and you were unhappy with the functional limitations of your elbow arthrodesis.\n",
      "Patient: Yes, that's correct.\n",
      "Doctor: We discussed the surgical options for the ulna nonunion with you at your clinic visit three months after the fall, and we decided to proceed with conservative treatment for an additional three months.\n",
      "Patient: Yes, I remember.\n",
      "Doctor: Due to your prior surgery and history of trauma, as well as the risk of infection, we chose to avoid multiple surgeries and combine the repair of the nonunion and the conversion of the elbow arthrodesis to arthroplasty into one procedure. The stem of the ulnar component would act as an intramedullary device.\n",
      "Patient: Okay, I understand.\n",
      "Doctor: During the procedure, you were placed in a supine position and a posterior incision was performed over your elbow. We had to elevate a prior muscle flap that was used for soft tissue coverage at your index procedure. The ulnar nerve was encased in scar tissue and required a meticulous neuroplasty.\n",
      "Patient: Hmm, okay.\n",
      "Doctor: We performed a triceps splitting approach to your elbow joint and multiple buried pins were inserted.\n",
      "Patient: Alright.\n",
      "Doctor: Is there anything you don't understand or have any questions about the procedure?\n",
      "Patient: No, I think you've explained everything clearly. Thank you, doctor.\n",
      "Doctor: You're welcome. You'll need to come back for follow-up appointments to monitor your progress. If you have any concerns or questions, don't hesitate to ask.\n",
      "│ ├─summary: {\n",
      "\"visit motivation\": \"Pain in the left proximal forearm after a fall\",\n",
      "\"admission\": [\n",
      "{\n",
      "\"reason\": \"None\",\n",
      "\"date\": \"None\",\n",
      "\"duration\": \"None\",\n",
      "\"care center details\": \"None\"\n",
      "}\n",
      "],\n",
      "\"patient information\": {\n",
      "\"age\": \"49\",\n",
      "\"sex\": \"male\",\n",
      "\"ethnicity\": \"None\",\n",
      "\"weight\": \"None\",\n",
      "\"height\": \"None\",\n",
      "\"family medical history\": \"None\",\n",
      "\"recent travels\": \"None\",\n",
      "\"socio economic context\": \"None\",\n",
      "\"occupation\": \"None\"\n",
      "},\n",
      "\"patient medical history\": {\n",
      "\"physiological context\": \"History of left elbow arthrodesis performed for posttraumatic arthritis at the age of 18\",\n",
      "\"psychological context\": \"None\",\n",
      "\"vaccination history\": \"None\",\n",
      "\"allergies\": \"None\",\n",
      "\"exercise frequency\": \"None\",\n",
      "\"nutrition\": \"None\",\n",
      "\"sexual history\": \"None\",\n",
      "\"alcohol consumption\": \"None\",\n",
      "\"drug usage\": \"None\",\n",
      "\"smoking status\": \"None\"\n",
      "},\n",
      "\"surgeries\": [\n",
      "{\n",
      "\"reason\": \"Posttraumatic arthritis\",\n",
      "\"Type\": \"Left elbow arthrodesis\",\n",
      "\"time\": \"At the age of 18\",\n",
      "\"outcome\": \"None\",\n",
      "\"details\": \"Elbow was fused at 90 degrees\"\n",
      "},\n",
      "{\n",
      "\"reason\": \"Hypertrophic nonunion of ulnar shaft fracture and functional limitations of elbow arthrodesis\",\n",
      "\"Type\": \"Repair of nonunion and conversion of elbow arthrodesis to arthroplasty\",\n",
      "\"time\": \"Three months after the fall and subsequent conservative treatment period\",\n",
      "\"outcome\": \"None\",\n",
      "\"details\": \"The stem of the ulnar component would act as an intramedullary device\"\n",
      "}\n",
      "],\n",
      "\"symptoms\": [\n",
      "{\n",
      "\"name of symptom\": \"Pain\",\n",
      "\"intensity of symptom\": \"None\",\n",
      "\"location\": \"Left proximal forearm\",\n",
      "\"time\": \"After a fall\",\n",
      "\"temporalisation\": \"None\",\n",
      "\"behaviours affecting the symptom\": \"None\",\n",
      "\"details\": \"Patient was tender at the proximal ulna\"\n",
      "}\n",
      "],\n",
      "\"medical examinations\": [\n",
      "{\n",
      "\"name\": \"Physical examination\",\n",
      "\"result\": \"No active flexion or extension at elbow, 40 degrees of pronation, 60 degrees of supination, normal motor and sensory exam at the hand\",\n",
      "\"details\": \"Elbow was fused at 90 degrees\"\n",
      "}\n",
      "],\n",
      "\"diagnosis tests\": [\n",
      "{\n",
      "\"test\": \"Radiographs\",\n",
      "\"severity\": \"Minimally displaced\",\n",
      "\"result\": \"Proximal ulnar shaft fracture\",\n",
      "\"condition\": \"Proximal ulnar shaft fracture, hypertrophic nonunion\",\n",
      "\"time\": \"None\",\n",
      "\"details\": \"Elbow arthrodesis at 90 degrees with retained hardware was also noted\"\n",
      "}\n",
      "],\n",
      "\"treatments\": [\n",
      "{\n",
      "\"name\": \"Closed treatment in a cast\",\n",
      "\"related condition\": \"Proximal ulnar shaft fracture\",\n",
      "\"dosage\": \"None\",\n",
      "\"time\": \"Initially after the fall\",\n",
      "\"frequency\": \"None\",\n",
      "\"duration\": \"None\",\n",
      "\"reason for taking\": \"To treat the ulnar shaft fracture\",\n",
      "\"reaction to treatment\": \"Developed a hypertrophic nonunion\",\n",
      "\"details\": \"None\"\n",
      "},\n",
      "{\n",
      "\"name\": \"Conservative treatment\",\n",
      "\"related condition\": \"Ulna nonunion\",\n",
      "\"dosage\": \"None\",\n",
      "\"time\": \"Three months after the fall\",\n",
      "\"frequency\": \"None\",\n",
      "\"duration\": \"An additional three months\",\n",
      "\"reason for taking\": \"To treat the ulna nonunion\",\n",
      "\"reaction to treatment\": \"Worsening motion through the nonunion site\",\n",
      "\"details\": \"None\"\n",
      "}\n",
      "],\n",
      "\"discharge\": {\n",
      "\"reason\": \"None\",\n",
      "\"referral\": \"None\",\n",
      "\"follow up\": \"None\",\n",
      "\"discharge summary\": \"None\"\n",
      "}\n",
      "}\n",
      "\n",
      "Sample 5:\n",
      "├─sample:\n",
      "│ ├─idx: 72232\n",
      "│ ├─note: A 47-year-old male patient was referred to the rheumatology clinic because of recurrent attacks of pain in both knees over 1 year.\n",
      "In September 2016, the patient presented with severe pain over the medial aspect of the left knee for a two-week duration which prevented him from ambulation. The pain increased with weight-bearing physical activity. The patient reported no history of trauma before the onset of the knee pain. Examination showed severe tenderness over the medial side of the knee with mild effusion and moderate limitation of range of motion. There was no erythema or increased warmth of the knee. MRI of the left knee showed a moderate-sized focal area of marrow edema/contusion involving the medial femoral condyle in mid and anterior parts predominantly along the articular surface. The patient was prescribed diclofenac sodium 50 mg twice daily and was advised to avoid prolonged weight-bearing activities. Over the next few weeks, the pain subsided and resolved. Three months later, the patient developed spontaneous new onset of pain involving the lateral aspect of the same knee. MRI showed bone marrow edema involving the lateral femoral condyle with complete resolution of the bone marrow edema of the medial femoral condyle. He was treated conservatively with NSAIDs and physiotherapy and advised to use cane to minimize weight bearing on the diseased knee. demonstrates MRI of the left knee in September 2016 and three months later.\n",
      "In April 2017, the patient developed gradual pain over the medial side of the right knee with no obvious swelling. MRI of the right knee showed a moderate-sized focal area of marrow edema involving the medial tibial plateau medially and anteriorly. The patient was treated conservatively in a similar fashion to the previous episode. Four months later, the pain got more severe for which he underwent another MRI of the right knee which showed extensive marrow edema involving the medial femoral condyle with complete recovery of the medial tibial plateau bone marrow edema noted in the previous MRI (). The patient also recalled a similar pain happened in 2011 to the left knee but did not do MRI at\n",
      "│ ├─full_note: A 47-year-old male patient was referred to the rheumatology clinic because of recurrent attacks of pain in both knees over 1 year.\\nIn September 2016, the patient presented with severe pain over the medial aspect of the left knee for a two-week duration which prevented him from ambulation. The pain increased with weight-bearing physical activity. The patient reported no history of trauma before the onset of the knee pain. Examination showed severe tenderness over the medial side of the knee with mild effusion and moderate limitation of range of motion. There was no erythema or increased warmth of the knee. MRI of the left knee showed a moderate-sized focal area of marrow edema/contusion involving the medial femoral condyle in mid and anterior parts predominantly along the articular surface. The patient was prescribed diclofenac sodium 50 mg twice daily and was advised to avoid prolonged weight-bearing activities. Over the next few weeks, the pain subsided and resolved. Three months later, the patient developed spontaneous new onset of pain involving the lateral aspect of the same knee. MRI showed bone marrow edema involving the lateral femoral condyle with complete resolution of the bone marrow edema of the medial femoral condyle. He was treated conservatively with NSAIDs and physiotherapy and advised to use cane to minimize weight bearing on the diseased knee. demonstrates MRI of the left knee in September 2016 and three months later.\\nIn April 2017, the patient developed gradual pain over the medial side of the right knee with no obvious swelling. MRI of the right knee showed a moderate-sized focal area of marrow edema involving the medial tibial plateau medially and anteriorly. The patient was treated conservatively in a similar fashion to the previous episode. Four months later, the pain got more severe for which he underwent another MRI of the right knee which showed extensive marrow edema involving the medial femoral condyle with complete recovery of the medial tibial plateau bone marrow edema noted in the previous MRI (). The patient also recalled a similar pain happened in 2011 to the left knee but did not do MRI at that time.\\nIn all previous presentations, the patient did not report any history of trauma, fall, twist, constitutional symptoms, or using corticosteroids. He also had no history of other joint involvement apart from knees and denied any history of low back pain. He did not have any features suggestive of spondyloarthropathy or connective tissue disease.\\nPast history is significant for fracture of the greater tuberosity of the left humerus and undisplaced fracture of the left cuboid bone. Fractures happened after he fell off a ladder. Also, he is known to have mild asthma which is controlled with as-needed bronchodilator and hypertension maintained on amlodipine 5 mg daily. The patient had never been a smoker or an alcohol consumer.\\nLab investigations revealed vitamin D 8 ng/mL (normal: >30 ng/mL), corrected calcium 2.16 mmol/L (normal: 2.10–2.60 mmol/L), parathyroid hormone 91 pg/ml (normal: 15–65 pg/ml), and alkaline phosphatase 49 U/L (normal: 40–150 U/L). Complete blood count, kidney and liver function, CRP, and ESR were within normal limit. Immunology profile including rheumatoid factor, ACPA, ANA, anticardiolipin, and B2-glycoprotein were all negative.\\nDXA scan showed a T score of −1.0 at the lumbar spine and −1.6 at the left femoral neck suggestive of osteopenia. shows further details of the DXA scan.\\nThe patient was treated conservatively with oral vitamin D2 50,000 IU/week supplement and NSAIDs. Gradually, the symptoms subsided over the next few weeks, and vitamin D level became normal after 12 weeks.\n",
      "│ ├─conversation: Doctor: Good morning, how are you feeling today?\n",
      "Patient: Hi doctor, I'm not feeling great. I have been experiencing pain in my knees for over a year now.\n",
      "Doctor: I see. You were referred to our clinic for recurrent attacks of pain in both knees, correct?\n",
      "Patient: Yes, that's correct.\n",
      "Doctor: Can you tell me more about the pain you have been experiencing?\n",
      "Patient: Well, it started about a year ago with severe pain over the medial aspect of my left knee. It lasted for two weeks and it was so bad that I couldn't walk. The pain increased when I did any weight-bearing activities.\n",
      "Doctor: I understand. Did you have any history of trauma before the onset of your knee pain?\n",
      "Patient: No, I didn't.\n",
      "Doctor: Okay, let me take a look. (Examines the patient's knee) Hmm, I can see that there is severe tenderness over the medial side of your knee with mild effusion and moderate limitation of range of motion. There is no erythema or increased warmth of the knee.\n",
      "Patient: Yes, that's what I've been experiencing.\n",
      "Doctor: We have done an MRI of your left knee and it showed a moderate-sized focal area of marrow edema/contusion involving the medial femoral condyle in mid and anterior parts predominantly along the articular surface.\n",
      "Patient: What does that mean, doctor?\n",
      "Doctor: It means that there is some injury to the bone in your knee. But don't worry, we have prescribed diclofenac sodium 50 mg twice daily for you and advised you to avoid prolonged weight-bearing activities.\n",
      "Patient: Okay, I see.\n",
      "Doctor: And it seems like the pain subsided and resolved over the next few weeks, is that correct?\n",
      "Patient: Yes, that's correct.\n",
      "Doctor: However, three months later, you developed spontaneous new onset of pain involving the lateral aspect of the same knee. And the MRI showed bone marrow edema involving the lateral femoral condyle with complete resolution of the bone marrow edema of the medial femoral condyle.\n",
      "Patient: Yes, that's right.\n",
      "Doctor: We treated you conservatively with NSAIDs and physiotherapy and advised you to use a cane to minimize weight bearing on the diseased knee.\n",
      "Patient: Yes, I remember.\n",
      "Doctor: And in April of this year, you developed gradual pain over the medial side of your right knee with no obvious swelling.\n",
      "Patient: Yes, that's correct.\n",
      "Doctor: And the MRI of your right knee showed a moderate-sized focal area of marrow edema involving the medial tibial plateau medially and anteriorly.\n",
      "Patient: Yes, that's right.\n",
      "Doctor: We treated you in a similar fashion to the previous episode. And four months later, the pain got more severe, is that correct?\n",
      "Patient: Yes, that's right.\n",
      "Doctor: And another MRI of your right knee showed extensive marrow edema involving the medial femoral condyle with complete recovery of the medial tibial plateau bone marrow edema noted in the previous MRI.\n",
      "Patient: Yes, that's correct.\n",
      "Doctor: Okay, I see. I will have to refer you to an orthopedic specialist for further evaluation and treatment. In the meantime, please continue to take your medications and avoid any weight-bearing activities that may worsen your condition.\n",
      "Patient: Okay, doctor. Thank you.\n",
      "│ ├─summary: {\n",
      "\"visit motivation\": \"Recurrent attacks of pain in both knees over 1 year\",\n",
      "\"admission\": [\n",
      "{\n",
      "\"reason\": \"None\",\n",
      "\"date\": \"None\",\n",
      "\"duration\": \"None\",\n",
      "\"care center details\": \"Rheumatology clinic\"\n",
      "}\n",
      "],\n",
      "\"patient information\": {\n",
      "\"age\": \"47\",\n",
      "\"sex\": \"Male\",\n",
      "\"ethnicity\": \"None\",\n",
      "\"weight\": \"None\",\n",
      "\"height\": \"None\",\n",
      "\"family medical history\": \"None\",\n",
      "\"recent travels\": \"None\",\n",
      "\"socio economic context\": \"None\",\n",
      "\"occupation\": \"None\"\n",
      "},\n",
      "\"patient medical history\": {\n",
      "\"physiological context\": \"None\",\n",
      "\"psychological context\": \"None\",\n",
      "\"vaccination history\": \"None\",\n",
      "\"allergies\": \"None\",\n",
      "\"exercise frequency\": \"None\",\n",
      "\"nutrition\": \"None\",\n",
      "\"sexual history\": \"None\",\n",
      "\"alcohol consumption\": \"None\",\n",
      "\"drug usage\": \"None\",\n",
      "\"smoking status\": \"None\"\n",
      "},\n",
      "\"surgeries\": [\n",
      "{\n",
      "\"reason\": \"None\",\n",
      "\"Type\": \"None\",\n",
      "\"time\": \"None\",\n",
      "\"outcome\": \"None\",\n",
      "\"details\": \"None\"\n",
      "}\n",
      "],\n",
      "\"symptoms\": [\n",
      "{\n",
      "\"name of symptom\": \"Pain\",\n",
      "\"intensity of symptom\": \"Severe\",\n",
      "\"location\": \"Medial aspect of the left knee, lateral aspect of the left knee, medial side of the right knee\",\n",
      "\"time\": \"Over 1 year\",\n",
      "\"temporalisation\": \"Recurrent attacks\",\n",
      "\"behaviours affecting the symptom\": \"Increased with weight-bearing physical activity\",\n",
      "\"details\": \"Prevented ambulation, no history of trauma, mild effusion, moderate limitation of range of motion, no erythema or increased warmth\"\n",
      "}\n",
      "],\n",
      "\"medical examinations\": [\n",
      "{\n",
      "\"name\": \"Examination\",\n",
      "\"result\": \"Severe tenderness over the medial side of the knee with mild effusion and moderate limitation of range of motion\",\n",
      "\"details\": \"No erythema or increased warmth of the knee\"\n",
      "}\n",
      "],\n",
      "\"diagnosis tests\": [\n",
      "{\n",
      "\"test\": \"MRI\",\n",
      "\"severity\": \"Moderate-sized\",\n",
      "\"result\": \"Focal area of marrow edema/contusion involving the medial femoral condyle, bone marrow edema involving the lateral femoral condyle, extensive marrow edema involving the medial femoral condyle\",\n",
      "\"condition\": \"Bone marrow edema\",\n",
      "\"time\": \"September 2016, three months later, April 2017, four months later\",\n",
      "\"details\": \"Involvement of medial femoral condyle in mid and anterior parts predominantly along the articular surface, complete resolution of the bone marrow edema of the medial femoral condyle, involvement of the medial tibial plateau medially and anteriorly, complete recovery of the medial tibial plateau bone marrow edema\"\n",
      "}\n",
      "],\n",
      "\"treatments\": [\n",
      "{\n",
      "\"name\": \"Diclofenac sodium\",\n",
      "\"related condition\": \"Bone marrow edema\",\n",
      "\"dosage\": \"50 mg\",\n",
      "\"time\": \"September 2016\",\n",
      "\"frequency\": \"Twice daily\",\n",
      "\"duration\": \"None\",\n",
      "\"reason for taking\": \"To treat knee pain\",\n",
      "\"reaction to treatment\": \"Pain subsided and resolved\",\n",
      "\"details\": \"Advised to avoid prolonged weight-bearing activities\"\n",
      "},\n",
      "{\n",
      "\"name\": \"NSAIDs and physiotherapy\",\n",
      "\"related condition\": \"Bone marrow edema\",\n",
      "\"dosage\": \"None\",\n",
      "\"time\": \"Three months after September 2016\",\n",
      "\"frequency\": \"None\",\n",
      "\"duration\": \"None\",\n",
      "\"reason for taking\": \"Treatment for new onset of pain involving the lateral aspect of the left knee\",\n",
      "\"reaction to treatment\": \"None\",\n",
      "\"details\": \"Advised to use cane to minimize weight bearing on the diseased knee\"\n",
      "},\n",
      "{\n",
      "\"name\": \"Conservative treatment\",\n",
      "\"related condition\": \"Bone marrow edema\",\n",
      "\"dosage\": \"None\",\n",
      "\"time\": \"April 2017\",\n",
      "\"frequency\": \"None\",\n",
      "\"duration\": \"None\",\n",
      "\"reason for taking\": \"Treatment for gradual pain over the medial side of the right knee\",\n",
      "\"reaction to treatment\": \"None\",\n",
      "\"details\": \"None\"\n",
      "}\n",
      "],\n",
      "\"discharge\": {\n",
      "\"reason\": \"None\",\n",
      "\"referral\": \"None\",\n",
      "\"follow up\": \"None\",\n",
      "\"discharge summary\": \"None\"\n",
      "}\n",
      "}\n"
     ]
    }
   ],
   "source": [
    "from datasets import load_dataset\n",
    "# from relik.inference.data.objects import RelikOutput\n",
    "# from relik.retriever.indexers.document import Document\n",
    "\n",
    "\n",
    "dataset = load_dataset(\n",
    "    'AGBonnet/augmented-clinical-notes',\n",
    "    split='train',\n",
    ")\n",
    "\n",
    "# sample = dataset.__iter__().__next__()\n",
    "\n",
    "def nested_print(key, element, level=0):\n",
    "    if isinstance(element, dict):\n",
    "        print(f'{\"│ \"*(level)}├─{key}:')\n",
    "        for k, v in element.items():\n",
    "            nested_print(k, v, level+1)\n",
    "    else:\n",
    "        print(f'{\"│ \"*(level)}├─{key}: {element}')\n",
    "\n",
    "# nested_print('sample', sample)\n",
    "\n",
    "# Print the first 5 elements of the dataset using nested_print\n",
    "for i, sample in enumerate(dataset):\n",
    "    if i < 5:\n",
    "        print(f\"\\nSample {i+1}:\")\n",
    "        nested_print('sample', sample)\n",
    "    else:\n",
    "        break"
   ]
  },
  {
   "cell_type": "code",
   "execution_count": 3,
   "id": "0666397e",
   "metadata": {},
   "outputs": [
    {
     "name": "stdout",
     "output_type": "stream",
     "text": [
      "\n",
      "Sample 1:\n",
      "├─sample:\n",
      "│ ├─idx: 155216\n",
      "│ ├─full_note: A a sixteen year-old girl, presented to our Outpatient department with the complaints of discomfort in the neck and lower back as well as restriction of body movements. She was not able to maintain an erect posture and would tend to fall on either side while standing up from a sitting position. She would keep her head turned to the right and upwards due to the sustained contraction of the neck muscles. There was a sideways bending of the back in the lumbar region. To counter the abnormal positioning of the back and neck, she would keep her limbs in a specific position to allow her body weight to be supported. Due to the restrictions with the body movements at the neck and in the lumbar region, she would require assistance in standing and walking. She would require her parents to help her with daily chores, including all activities of self-care.\\nShe had been experiencing these difficulties for the past four months since when she was introduced to olanzapine tablets for the control of her exacerbated mental illness. This was not her first experience with this drug over the past seven years since she had been diagnosed with bipolar affective disorder. Her first episode of the affective disorder was that of mania at the age of eleven which was managed with the use of olanzapine tablets in 2.5–10 mg doses per day at different times. The patient developed pain and discomfort in her neck within the second week of being put on tablet olanzapine at a dose of 5 mg per day. This was associated with a sustained and abnormal contraction of the neck muscles that would pull her head to the right in an upward direction. These features had persisted for the first three years of her illness with a varying intensity, distress, and dysfunction which would tend to correlate with the dose of olanzapine. Apart from a brief period of around three weeks when she was given tablet trihexyphenidyl 4 mg per day for rigidity in her upper limbs, she was not prescribed any other psychotropic medication. The rigidity showed good response to this medication which was subsequently stopped. The introduction and subsequent withdrawal of this medication did not bring about any change in the sustained abnormal contraction of her neck muscles.\\nImprovement and subsequent remission of the mood symptoms of the patient provided the treatment team with an opportunity to stop olanzapine. The discomfort in the neck and the abnormal movement of the neck muscles persisted over the next three months’ period when she was off olanzapine without any significant change, even with a trial of propranolol, trihexyphenidyl, and phenargan injection. Reintroduction of olanzapine (at a dose of 2.5 mg per day) after a gap of three months for the reemergence of some behavioral features led to a slight aggravation of the already existing abnormal movement and posturing of the neck.\\nWith improvement in the clinical picture, olanzapine was reduced and stopped. She was put on tablet sodium valproate, 1000 mg per day during this period for the stabilization of her mood when she was also given escitalopram for a period of three months for her depressive features. The patient responded well to this change in medication, but she developed amenorrhea for which no cause was established after a detailed gynecological evaluation. Keeping in mind the possibility of valproate-induced menstrual disturbance, she was shifted to tablet lithium 450 mg per day. The patient was well maintained on this medication for a period of around two years. However, she developed hypothyroidism for which eltroxin was introduced at a dose of 50 micrograms per day.\\nDuring this period of two years and seven months, the abnormal contraction of the neck muscles and the abnormal positioning of the head improved slightly, and with the improvement, it would cause less discomfort and interference in her activities. However, these movements failed to disappear completely. Another exacerbation of the mood symptoms in the form of mania warranted a need for the introduction of olanzapine (by a different treatment team) and the patient was reintroduced to 10 mg olanzapine on a daily basis, which led to the current presentation as described earlier.\\nAfter the case was seen at our institute, the psychotropic medications were stopped as her mood symptoms had remitted and she was put on tablet tetrabenazine (built up to 75 mg per day in divided doses) with which the patient had started showing some response with an improvement in abnormal movements of the muscles of the neck as well as the back. She is now able to stand with support and can do some daily chores on her own. The pain and discomfort in the back and neck have also reduced.\\nDuring the course of the illness, the patient has been investigated for the presence of any neurological illness as the cause of her abnormal movements. Her MRI scan of the brain, serum and urine copper levels, slit lamp microscopy for the KF ring, complete blood count, TLC, DLC, and USG of the abdomen did not reveal any abnormalities. Her thyroid function tests were deranged subsequent to the introduction of tablet lithium carbonate which was restored to normal after the introduction of tablet eltroxin.\\nDystonia is a syndrome of sustained muscle contractions that produce twisting and repetitive movements or abnormal postures. The descriptions of the extent and severity of muscle involvement are variable, ranging from intermittent contraction limited to a single body region, to generalized dystonia involving the limbs and axial muscles.\\nEver since the introduction of the term, “dystonia” by Oppenhiem in the early part of the twentieth century, it has been an area of focused attention of the neurologists. In 1973, Keegan and Rajput introduced the term, “” to describe drug-induced, sustained muscle spasm causing repetitive movements or abnormal postures. “” was a term introduced by Burke in 1982, the description of which required the presence of chronic dystonia, a history of antipsychotic drug treatment preceding or concurrent with the onset of dystonia, the exclusion of known causes of secondary dystonia by appropriate clinical and laboratory evaluation, and a negative family history of dystonia for definitive diagnosis.\\nThe dystonia could be classified based on the region(s) of the body involved. Involvement of isolated regions like the face, neck, and arms would be labeled as focal dystonia, whereas simultaneous involvement of two or more contiguous areas would be called segmental dystonia. When the clinical picture is that of involvement of two or more noncontiguous regions, the label used is, “multifocal” and the involvement of one leg and one other body region makes it the generalized type.\\nThe symptoms of tardive dystonia could begin even after a few days or weeks of exposure to the offending agent. Tardive dystonia is prevalent in 0.5–21.6% of the patients who are treated with neuroleptics.\\nThe syndrome of tardive dystonia has been reported with most of the typical antipsychotics.[] It has been associated with the atypical antipsychotics, namely risperidone, olanzapine, quetiapine, and aripiprazole. Reports of tardive dystonia developing with the use of atypical antipsychotics have been predominantly in the cases of nonaffective psychosis and in the adult population in the age ranges of the midthirties and forties. Our case is the first case of an affective illness in an adolescent girl developing tardive dystonia on olanzapine. The aggravation of the clinical features with the inadvertent reintroduction of the medication suggests olanzapine is the offending agent. With the growing acceptance of olanzapine as the first-line therapy for the manic phase of bipolar illness and as a mood stabilizer for the maintenance therapy, one needs to be cautious about the emergence of this troublesome adverse effect of this therapy. The patient has shown some response to the introduction of tetrabenazine.\n",
      "\n",
      "Sample 2:\n",
      "├─sample:\n",
      "│ ├─idx: 77465\n",
      "│ ├─full_note: This is the case of a 56-year-old man that was complaining of a dump pain on the right back and a swelling right in this place for several weeks. The patient was in good state and very active. There was not any health problem in the past except a thoracic trauma at work one year ago. In that time the patient was diagnosed with a simple fracture of the 9th right rib without any other consequences.\\nOn the X-ray was seen a shadow in the lower part of the right hemithorax. After that, it was decided to perform a CT-scan of the thorax that revealed a tumor of the thoracic wall in the right hemithorax that measured 8 × 4 cm and had a heterogeneous density inside of it. The tumor had involved and destructed the 9th rib and was lying even in two adjacent intercostal spaces, but without involving the lung and muscular layers. On lung window of the CT-scan were seen micronodular infiltrations of both lungs with diameters up to 5 mm and only one nodule in lower lobe of the right lung with diameter almost 1 cm (). The mediastinum was without enlarged lymph nodes and no other lesion was seen in adjacent organs. The conclusion of the radiologist was that probably this was the case of a malignant tumor of the thoracic wall with secondary lesions in both lungs and a biopsy of the tumor was recommended.\\nBecause there was not a correlation between the clinical picture of the patient and the conclusion of the radiology it was decided to perform frozen biopsy of the lesions of the right lung and an excision biopsy of the tumor of the thoracic wall. So, through a small posterior thoracotomy at 7th intercostal space were sampled five nodular lesions from the right lung and a sample from the tumor. None of these samples resulted positive (no malignant cells found) after frozen biopsy. In such conditions was considered as more realistic the option of performing an oncologic resection of the tumor of the thoracic wall. (We resected three ribs where the 8th and 10th ribs were macroscopically free of the tumor. The resection was extended 10 cm anteriorly from the tumor and posteriorly it was accompanied by disarticulation of the ribs and partial resection of transversal processes of 8th, 9th, and 10th vertebras.) After that, we have performed a plastic procedure with polypropylene mesh in double layers to correct the defect. The clinical course of the patient was very good and five days later he was discharged from the hospital in very good condition. The conclusion of biopsy for both the tumor of thoracic wall and the lung nodules was sclerosing xanthofibroma which is considered by most people to be a tumor with different clinical and radiological features. Lesions were characterized by a network of anastomosing bone trabeculae without osteoblast lining within a fibrous stroma ().\\nReferring to the follow-up, the patient was in a great state of health and from the first month after the surgery he turned back at his work place. Two years after the surgery the thoracic CT-scan showed neither recurrences of the lesions of the thoracic wall nor new developments on the lungs.\n",
      "\n",
      "Sample 3:\n",
      "├─sample:\n",
      "│ ├─idx: 133948\n",
      "│ ├─full_note: A 36-year old female patient visited our hospital with a chief complaint of pain and restricted range of motion (ROM) in the left hip joint persisting for two months. Physical examination of the patient revealed severe gait disturbance secondary to hip pain aggravated by hip joint flexion or rotation. The patient had no lifestyle habits or specific comorbidities thought to cause femoral head AVN. An anteroposterior view of the left hip revealed sclerosis and collapse of the femoral head and dysplasia of the hip (). The magnetic resonance imaging (MRI) scan revealed an increased amount of joint fluid and bone marrow edema in the left hip, and femoral head necrosis was detected on the contralateral side; however, the patient did not complain of any pain (). The patient underwent THA after being diagnosed with idiopathic osteonecrosis of the femoral head, was discharged in good condition three weeks after the surgery without specific complications, and followed up via regular outpatient visits. The patient complained of pain and limited ROM in the contralateral hip joint and gait disturbance one year after the initial surgery. Her symptoms continued for two months and increased over the following three weeks. Repeat MRI revealed similar findings to those noted previously in the left hip (). A second THA was performed (one year after the first THA of the left hip); the patient was discharged in good condition after the surgery without specific complications and followed up via regular outpatient visits (). At the time of the second surgery, the patient was 7 kg heavier than she was at the time of the first procedure and developed a moderate moon face, signs that were initially overlooked as weight gain. Subsequently, the patient complained of intensifying feelings of helplessness and central obesity and muscle mass reduction in both the upper and lower limbs aggravated over a three-month period of outpatient follow-up after the second surgery. However, these signs were not significant enough to warrant further investigation. One year after the second surgery, the patient was referred to the Department of Cardiology in our hospital due to a progressive worsening of central obesity and muscle mass reduction of the limbs and hot flushes. She was diagnosed with hypertension due to high blood pressure and electrolyte inbalance and prescribed medication. She was suspected of having secondary hypertension, and abdominal computed tomography (CT) and echocardiography were conducted. Although echocardiography yielded no specific findings, abdominal CT detected a 2.5 cm benign adrenal adenoma (). The patient was immediately referred to the Department of Endocrinology to be screened for Cushing's syndrome. During screening, a 24-hour urine free cortisol revealed an elevation to 394.3 µg/day (normal, >50 µg/day) and a plasma cortisol level of 29.0 µg/dL (normal, <5.0 µg/dL) was noted based on the results of a 48-hour low-dose dexamethasone suppression test. A plasma adrenocorticotropic hormone (ACTH) of 21.5 pg/mL (normal range, 6–76 pg/mL) and cortisol levels between 17.3 and 19.9 µg/day in a high-dose dexamethasone test confirmed Cushing's syndrome. A suspected cause was ectopic ACTH-producing tumors due to an adrenocortical adenoma. An in-depth history was then undertaken. The patient disregarded advice to undergo regular monitoring of a small abdominal mass found in a regular check-up done several years before her first visit to our hospital. At the time, she had menstrual irregularity, mild weight gain, depression and intermittent facial skin problems–clinical signs associated with Cushing's syndrome. We determined that asymptomatic AI developed into symptomatic Cushing's syndrome, and the patient underwent laparoscopic partial adrenalectomy after referral to our urology department (). Histopathological examination confirmed cortical adenoma. Six months after the procedure, Cushing's syndrome-related symptoms completely disappeared, including feelings of helplessness and central obesity. The patient is currently under outpatient observation without any specific symptoms.\\nThe patient's informed consent and institutional review board's clearance were obtained for the purpose of publication of a case report. This article was approved by Gwangju Veterans Hospital at July 2, 2018 (project number, GVHIRB 18-0023).\n",
      "\n",
      "Sample 4:\n",
      "├─sample:\n",
      "│ ├─idx: 80176\n",
      "│ ├─full_note: A 49-year-old male presented with a complaint of pain in the left proximal forearm after a fall. The patient had a history of left elbow arthrodesis performed for posttraumatic arthritis at the age of 18. On physical examination he was tender at the proximal ulna. He had no active flexion or extension at his elbow, which was fused at 90 degrees but achieved 40 degrees of pronation and 60 degrees of supination. His motor and sensory exam was normal at the hand. Radiographs of the forearm and the elbow revealed an elbow arthrodesis at 90 degrees with retained hardware and a minimally displaced proximal ulnar shaft fracture (). A decision was made to treat his ulnar shaft fracture closed in a cast, and he subsequently developed a hypertrophic nonunion. At his clinic visit three months after the fall, surgical options for the ulna nonunion were discussed with the patient. We proceeded with conservative treatment for an additional three months, with worsening motion through the nonunion site. He revealed that he was unhappy with the functional limitations of his elbow arthrodesis and inquired about the possibility of converting it to an arthroplasty. The risks of elbow arthroplasty were discussed with the patient at length. Increasing the functional capacity of his arm was his ultimate goal, and understanding that he faced a likely operation for the ulna nonunion, the patient wished to proceed. Due to the patient's prior surgery and history of trauma, as well as risk of infection, we chose to avoid multiple surgeries and combine the repair of nonunion and the conversion of elbow arthrodesis to arthroplasty into one procedure. The stem of the ulnar component would thus act as an intramedullary device.\\nIn the operating room the patient was placed in a supine position and a posterior incision centered over the elbow was performed. A prior muscle flap that was used for soft tissue coverage at his index procedure had to be elevated. The ulnar nerve was encased in scar tissue and required a meticulous neuroplasty. A triceps splitting approach to the elbow joint was then performed and multiple buried pins were removed from the humerus []. A wedge osteotomy of the arthrodesis site was then performed and the fusion taken down (). This was performed at the apex of the arthrodesis site with the humeral cut at 90 degrees to the long axis of the humerus and the ulnar cut at 45 degrees to the long axis of the ulna. The cuts were done in this manner to better accommodate the stems of the prosthesis. Resection of the humerus was greater than normal to allow for appropriate range of motion (ROM) of the elbow without undue tension on the neurovascular structures, which had been in this position for over 30 years. Resection of the radial head was performed as it was markedly arthritic. After preparation of the canals, a Stryker distal humeral replacement system was used to perform the total elbow arthroplasty (MRS (Stryker, Kalamazoo, MI)). Intraoperatively, the patient had full flexion and extension of the elbow and full pronation and supination. His muscles were properly tensioned without undue strain on the neurovascular structures. The patient's ulnar nonunion was also addressed with bone graft taken from the resected radial head. He had an uncomplicated hospital course and was allowed full ROM on postoperative day #2. At his 4.5-month appointment, the patient was achieving 0–110° elbow active elbow flexion/extension, as well as nearly full forearm rotation. He was experiencing minimal pain and was happy with the function of his prosthesis. The patient was able to return to work with an elbow brace that he locked at work. Radiographs showed a healed ulna nonunion and a stable total elbow prosthesis without signs of loosening (). Multiple attempts to contact the patient for further follow-up have been unsuccessful.\n",
      "\n",
      "Sample 5:\n",
      "├─sample:\n",
      "│ ├─idx: 72232\n",
      "│ ├─full_note: A 47-year-old male patient was referred to the rheumatology clinic because of recurrent attacks of pain in both knees over 1 year.\\nIn September 2016, the patient presented with severe pain over the medial aspect of the left knee for a two-week duration which prevented him from ambulation. The pain increased with weight-bearing physical activity. The patient reported no history of trauma before the onset of the knee pain. Examination showed severe tenderness over the medial side of the knee with mild effusion and moderate limitation of range of motion. There was no erythema or increased warmth of the knee. MRI of the left knee showed a moderate-sized focal area of marrow edema/contusion involving the medial femoral condyle in mid and anterior parts predominantly along the articular surface. The patient was prescribed diclofenac sodium 50 mg twice daily and was advised to avoid prolonged weight-bearing activities. Over the next few weeks, the pain subsided and resolved. Three months later, the patient developed spontaneous new onset of pain involving the lateral aspect of the same knee. MRI showed bone marrow edema involving the lateral femoral condyle with complete resolution of the bone marrow edema of the medial femoral condyle. He was treated conservatively with NSAIDs and physiotherapy and advised to use cane to minimize weight bearing on the diseased knee. demonstrates MRI of the left knee in September 2016 and three months later.\\nIn April 2017, the patient developed gradual pain over the medial side of the right knee with no obvious swelling. MRI of the right knee showed a moderate-sized focal area of marrow edema involving the medial tibial plateau medially and anteriorly. The patient was treated conservatively in a similar fashion to the previous episode. Four months later, the pain got more severe for which he underwent another MRI of the right knee which showed extensive marrow edema involving the medial femoral condyle with complete recovery of the medial tibial plateau bone marrow edema noted in the previous MRI (). The patient also recalled a similar pain happened in 2011 to the left knee but did not do MRI at that time.\\nIn all previous presentations, the patient did not report any history of trauma, fall, twist, constitutional symptoms, or using corticosteroids. He also had no history of other joint involvement apart from knees and denied any history of low back pain. He did not have any features suggestive of spondyloarthropathy or connective tissue disease.\\nPast history is significant for fracture of the greater tuberosity of the left humerus and undisplaced fracture of the left cuboid bone. Fractures happened after he fell off a ladder. Also, he is known to have mild asthma which is controlled with as-needed bronchodilator and hypertension maintained on amlodipine 5 mg daily. The patient had never been a smoker or an alcohol consumer.\\nLab investigations revealed vitamin D 8 ng/mL (normal: >30 ng/mL), corrected calcium 2.16 mmol/L (normal: 2.10–2.60 mmol/L), parathyroid hormone 91 pg/ml (normal: 15–65 pg/ml), and alkaline phosphatase 49 U/L (normal: 40–150 U/L). Complete blood count, kidney and liver function, CRP, and ESR were within normal limit. Immunology profile including rheumatoid factor, ACPA, ANA, anticardiolipin, and B2-glycoprotein were all negative.\\nDXA scan showed a T score of −1.0 at the lumbar spine and −1.6 at the left femoral neck suggestive of osteopenia. shows further details of the DXA scan.\\nThe patient was treated conservatively with oral vitamin D2 50,000 IU/week supplement and NSAIDs. Gradually, the symptoms subsided over the next few weeks, and vitamin D level became normal after 12 weeks.\n"
     ]
    }
   ],
   "source": [
    "# extract idx and full_note\n",
    "def extract_idx_full_note(sample):\n",
    "    idx = sample['idx']\n",
    "    full_note = sample['full_note']\n",
    "    return {\n",
    "        'idx': idx,\n",
    "        'full_note': full_note\n",
    "    }\n",
    "\n",
    "# extract idx and full_note from the sample\n",
    "dataset = dataset.map(\n",
    "    extract_idx_full_note,\n",
    "    remove_columns=dataset.column_names,\n",
    "    batch_size=1000)\n",
    "\n",
    "# Print the first 5 elements of the dataset using nested_print\n",
    "for i, sample in enumerate(dataset):\n",
    "    if i < 5:\n",
    "        print(f\"\\nSample {i+1}:\")\n",
    "        nested_print('sample', sample)\n",
    "    else:\n",
    "        break"
   ]
  },
  {
   "cell_type": "code",
   "execution_count": 4,
   "id": "d0c5f658",
   "metadata": {},
   "outputs": [
    {
     "data": {
      "application/vnd.jupyter.widget-view+json": {
       "model_id": "1540c1a31f6149268376e4427fc59745",
       "version_major": 2,
       "version_minor": 0
      },
      "text/plain": [
       "Fetching 12 files:   0%|          | 0/12 [00:00<?, ?it/s]"
      ]
     },
     "metadata": {},
     "output_type": "display_data"
    },
    {
     "data": {
      "application/vnd.jupyter.widget-view+json": {
       "model_id": "6f1d02cd455841ed96556e4e6eaaf5e1",
       "version_major": 2,
       "version_minor": 0
      },
      "text/plain": [
       "README.md:   0%|          | 0.00/8.39k [00:00<?, ?B/s]"
      ]
     },
     "metadata": {},
     "output_type": "display_data"
    },
    {
     "data": {
      "application/vnd.jupyter.widget-view+json": {
       "model_id": "a96b06dbd7874770873b492df44cefb6",
       "version_major": 2,
       "version_minor": 0
      },
      "text/plain": [
       ".gitattributes:   0%|          | 0.00/1.52k [00:00<?, ?B/s]"
      ]
     },
     "metadata": {},
     "output_type": "display_data"
    },
    {
     "data": {
      "application/vnd.jupyter.widget-view+json": {
       "model_id": "c5b86333e75549f38ed26db421d7e0e0",
       "version_major": 2,
       "version_minor": 0
      },
      "text/plain": [
       "special_tokens_map.json:   0%|          | 0.00/970 [00:00<?, ?B/s]"
      ]
     },
     "metadata": {},
     "output_type": "display_data"
    },
    {
     "data": {
      "application/vnd.jupyter.widget-view+json": {
       "model_id": "4cfc00ea2a2749d6839269f513534b46",
       "version_major": 2,
       "version_minor": 0
      },
      "text/plain": [
       "added_tokens.json:   0%|          | 0.00/23.0 [00:00<?, ?B/s]"
      ]
     },
     "metadata": {},
     "output_type": "display_data"
    },
    {
     "data": {
      "application/vnd.jupyter.widget-view+json": {
       "model_id": "b4a13321ad3547558124c2ac774c023b",
       "version_major": 2,
       "version_minor": 0
      },
      "text/plain": [
       "rng_state.pth:   0%|          | 0.00/14.2k [00:00<?, ?B/s]"
      ]
     },
     "metadata": {},
     "output_type": "display_data"
    },
    {
     "data": {
      "application/vnd.jupyter.widget-view+json": {
       "model_id": "10904c3db66d4ac58cc5d1ad64623e8c",
       "version_major": 2,
       "version_minor": 0
      },
      "text/plain": [
       "scheduler.pt:   0%|          | 0.00/1.06k [00:00<?, ?B/s]"
      ]
     },
     "metadata": {},
     "output_type": "display_data"
    },
    {
     "data": {
      "application/vnd.jupyter.widget-view+json": {
       "model_id": "719ee200e8c04be489b8f06d469eba23",
       "version_major": 2,
       "version_minor": 0
      },
      "text/plain": [
       "gliner_config.json:   0%|          | 0.00/6.06k [00:00<?, ?B/s]"
      ]
     },
     "metadata": {},
     "output_type": "display_data"
    },
    {
     "data": {
      "application/vnd.jupyter.widget-view+json": {
       "model_id": "bee7898476d246d781f6800dab6e25f7",
       "version_major": 2,
       "version_minor": 0
      },
      "text/plain": [
       "spm.model:   0%|          | 0.00/2.46M [00:00<?, ?B/s]"
      ]
     },
     "metadata": {},
     "output_type": "display_data"
    },
    {
     "data": {
      "application/vnd.jupyter.widget-view+json": {
       "model_id": "5ec19fe56e284c1a80705c15b5ec8468",
       "version_major": 2,
       "version_minor": 0
      },
      "text/plain": [
       "pytorch_model.bin:   0%|          | 0.00/2.28G [00:00<?, ?B/s]"
      ]
     },
     "metadata": {},
     "output_type": "display_data"
    },
    {
     "data": {
      "application/vnd.jupyter.widget-view+json": {
       "model_id": "f5328262199a49ed9aa1c520687c0e97",
       "version_major": 2,
       "version_minor": 0
      },
      "text/plain": [
       "trainer_state.json:   0%|          | 0.00/18.2k [00:00<?, ?B/s]"
      ]
     },
     "metadata": {},
     "output_type": "display_data"
    },
    {
     "data": {
      "application/vnd.jupyter.widget-view+json": {
       "model_id": "c7d6a7058c124543b5ffc75af008d445",
       "version_major": 2,
       "version_minor": 0
      },
      "text/plain": [
       "tokenizer_config.json:   0%|          | 0.00/1.31k [00:00<?, ?B/s]"
      ]
     },
     "metadata": {},
     "output_type": "display_data"
    },
    {
     "data": {
      "application/vnd.jupyter.widget-view+json": {
       "model_id": "9ccddea0a4fe4f268a6dad931f888462",
       "version_major": 2,
       "version_minor": 0
      },
      "text/plain": [
       "tokenizer.json:   0%|          | 0.00/8.65M [00:00<?, ?B/s]"
      ]
     },
     "metadata": {},
     "output_type": "display_data"
    },
    {
     "data": {
      "application/vnd.jupyter.widget-view+json": {
       "model_id": "d47f77a5d1274347883479a9bc5eff9b",
       "version_major": 2,
       "version_minor": 0
      },
      "text/plain": [
       "tokenizer_config.json:   0%|          | 0.00/366 [00:00<?, ?B/s]"
      ]
     },
     "metadata": {},
     "output_type": "display_data"
    },
    {
     "data": {
      "application/vnd.jupyter.widget-view+json": {
       "model_id": "280cca4aecca4ad19deda9028e1f27c9",
       "version_major": 2,
       "version_minor": 0
      },
      "text/plain": [
       "vocab.txt:   0%|          | 0.00/232k [00:00<?, ?B/s]"
      ]
     },
     "metadata": {},
     "output_type": "display_data"
    },
    {
     "data": {
      "application/vnd.jupyter.widget-view+json": {
       "model_id": "07cda6b4fc59482c9af58afdbacf24c5",
       "version_major": 2,
       "version_minor": 0
      },
      "text/plain": [
       "tokenizer.json:   0%|          | 0.00/711k [00:00<?, ?B/s]"
      ]
     },
     "metadata": {},
     "output_type": "display_data"
    },
    {
     "data": {
      "application/vnd.jupyter.widget-view+json": {
       "model_id": "f3343b528d054613bd64d026c791b613",
       "version_major": 2,
       "version_minor": 0
      },
      "text/plain": [
       "special_tokens_map.json:   0%|          | 0.00/125 [00:00<?, ?B/s]"
      ]
     },
     "metadata": {},
     "output_type": "display_data"
    }
   ],
   "source": [
    "# Model\n",
    "gliner_model = GLiNER.from_pretrained(\"Ihor/gliner-biomed-bi-large-v1.0\")\n",
    "\n",
    "# Labels for the GLiNER model\n",
    "labels = [\"Disease or Condition\", \"Medication\", \"Medication Dosage and Frequency\", \"Procedure\", \"Lab Test\", \"Lab Test Result\", \"Body Site\", \"Medical Device\", \"Demographic Information\"]"
   ]
  },
  {
   "cell_type": "code",
   "execution_count": 5,
   "id": "bd0adcdd",
   "metadata": {},
   "outputs": [],
   "source": [
    "# Load the Relik Relation Extraction model\n",
    "# relik_relation_extract = Relik.from_pretrained(\"sapienzanlp/relik-relation-extraction-nyt-large\")"
   ]
  },
  {
   "cell_type": "code",
   "execution_count": 6,
   "id": "1c5b35e9",
   "metadata": {},
   "outputs": [],
   "source": [
    "# from synthIE.models import GenIEFlanT5PL\n",
    "\n",
    "# model_path = os.path.join(os.getcwd(), '..', 'models', 'synthie_large_fe.ckpt')\n",
    "# print(f\"Model path: {model_path}\")\n",
    "# if os.path.exists(model_path):\n",
    "#     model = GenIEFlanT5PL.load_from_checkpoint(checkpoint_path=model_path)"
   ]
  },
  {
   "cell_type": "code",
   "execution_count": 7,
   "id": "d63829b8",
   "metadata": {},
   "outputs": [
    {
     "data": {
      "application/vnd.jupyter.widget-view+json": {
       "model_id": "c49284a3ca44471287337dadbb4fa417",
       "version_major": 2,
       "version_minor": 0
      },
      "text/plain": [
       "Fetching 12 files:   0%|          | 0/12 [00:00<?, ?it/s]"
      ]
     },
     "metadata": {},
     "output_type": "display_data"
    },
    {
     "data": {
      "application/vnd.jupyter.widget-view+json": {
       "model_id": "f56e7c281578480a85110cd494c4d323",
       "version_major": 2,
       "version_minor": 0
      },
      "text/plain": [
       "generation_config.json:   0%|          | 0.00/173 [00:00<?, ?B/s]"
      ]
     },
     "metadata": {},
     "output_type": "display_data"
    },
    {
     "data": {
      "application/vnd.jupyter.widget-view+json": {
       "model_id": "4ad559f8cdea4ebb82dda7645a392bb8",
       "version_major": 2,
       "version_minor": 0
      },
      "text/plain": [
       "config.json:   0%|          | 0.00/1.61k [00:00<?, ?B/s]"
      ]
     },
     "metadata": {},
     "output_type": "display_data"
    },
    {
     "data": {
      "application/vnd.jupyter.widget-view+json": {
       "model_id": "1dceaeb1132049bb9233cb065c58b3c1",
       "version_major": 2,
       "version_minor": 0
      },
      "text/plain": [
       "added_tokens.json:   0%|          | 0.00/35.0 [00:00<?, ?B/s]"
      ]
     },
     "metadata": {},
     "output_type": "display_data"
    },
    {
     "data": {
      "application/vnd.jupyter.widget-view+json": {
       "model_id": "57158cead00a44fe955f03e2e2a21fac",
       "version_major": 2,
       "version_minor": 0
      },
      "text/plain": [
       "model-00001-of-00002.safetensors:   0%|          | 0.00/4.96G [00:00<?, ?B/s]"
      ]
     },
     "metadata": {},
     "output_type": "display_data"
    },
    {
     "data": {
      "application/vnd.jupyter.widget-view+json": {
       "model_id": "473838a5d1fe461a86057a48a571a5fa",
       "version_major": 2,
       "version_minor": 0
      },
      "text/plain": [
       "processor_config.json:   0%|          | 0.00/70.0 [00:00<?, ?B/s]"
      ]
     },
     "metadata": {},
     "output_type": "display_data"
    },
    {
     "data": {
      "application/vnd.jupyter.widget-view+json": {
       "model_id": "46fbc6ba0e124bcf950be2723ef081cb",
       "version_major": 2,
       "version_minor": 0
      },
      "text/plain": [
       "preprocessor_config.json:   0%|          | 0.00/570 [00:00<?, ?B/s]"
      ]
     },
     "metadata": {},
     "output_type": "display_data"
    },
    {
     "data": {
      "application/vnd.jupyter.widget-view+json": {
       "model_id": "f24f199285f84badbb683ff854e57cb6",
       "version_major": 2,
       "version_minor": 0
      },
      "text/plain": [
       "tokenizer.json:   0%|          | 0.00/33.4M [00:00<?, ?B/s]"
      ]
     },
     "metadata": {},
     "output_type": "display_data"
    },
    {
     "data": {
      "application/vnd.jupyter.widget-view+json": {
       "model_id": "395345c7432b4783b5b1f7ffff4ea744",
       "version_major": 2,
       "version_minor": 0
      },
      "text/plain": [
       "tokenizer.model:   0%|          | 0.00/4.69M [00:00<?, ?B/s]"
      ]
     },
     "metadata": {},
     "output_type": "display_data"
    },
    {
     "data": {
      "application/vnd.jupyter.widget-view+json": {
       "model_id": "a23a336f03b2447daa7a628487bf444a",
       "version_major": 2,
       "version_minor": 0
      },
      "text/plain": [
       "model.safetensors.index.json:   0%|          | 0.00/90.6k [00:00<?, ?B/s]"
      ]
     },
     "metadata": {},
     "output_type": "display_data"
    },
    {
     "data": {
      "application/vnd.jupyter.widget-view+json": {
       "model_id": "b66e81e40f1a4e25a1dfefb795bbc1dd",
       "version_major": 2,
       "version_minor": 0
      },
      "text/plain": [
       "special_tokens_map.json:   0%|          | 0.00/662 [00:00<?, ?B/s]"
      ]
     },
     "metadata": {},
     "output_type": "display_data"
    },
    {
     "data": {
      "application/vnd.jupyter.widget-view+json": {
       "model_id": "d4b0edb503f14676b79482a7d4c5552f",
       "version_major": 2,
       "version_minor": 0
      },
      "text/plain": [
       "model-00002-of-00002.safetensors:   0%|          | 0.00/3.64G [00:00<?, ?B/s]"
      ]
     },
     "metadata": {},
     "output_type": "display_data"
    },
    {
     "data": {
      "application/vnd.jupyter.widget-view+json": {
       "model_id": "786569c580cc4b2fb0574997263bb2f1",
       "version_major": 2,
       "version_minor": 0
      },
      "text/plain": [
       "tokenizer_config.json:   0%|          | 0.00/1.16M [00:00<?, ?B/s]"
      ]
     },
     "metadata": {},
     "output_type": "display_data"
    },
    {
     "name": "stderr",
     "output_type": "stream",
     "text": [
      "Error while downloading from https://cdn-lfs-us-1.hf.co/repos/3d/df/3ddf3ad8b796b6d5ada0850f03115c053532413d0d668c795d595ebcf54cd23e/1299c11d7cf632ef3b4e11937501358ada021bbdf7c47638d13c0ee982f2e79c?response-content-disposition=inline%3B+filename*%3DUTF-8%27%27tokenizer.model%3B+filename%3D%22tokenizer.model%22%3B&Expires=1748266260&Policy=eyJTdGF0ZW1lbnQiOlt7IkNvbmRpdGlvbiI6eyJEYXRlTGVzc1RoYW4iOnsiQVdTOkVwb2NoVGltZSI6MTc0ODI2NjI2MH19LCJSZXNvdXJjZSI6Imh0dHBzOi8vY2RuLWxmcy11cy0xLmhmLmNvL3JlcG9zLzNkL2RmLzNkZGYzYWQ4Yjc5NmI2ZDVhZGEwODUwZjAzMTE1YzA1MzUzMjQxM2QwZDY2OGM3OTVkNTk1ZWJjZjU0Y2QyM2UvMTI5OWMxMWQ3Y2Y2MzJlZjNiNGUxMTkzNzUwMTM1OGFkYTAyMWJiZGY3YzQ3NjM4ZDEzYzBlZTk4MmYyZTc5Yz9yZXNwb25zZS1jb250ZW50LWRpc3Bvc2l0aW9uPSoifV19&Signature=hLoKXwZ2TCSj0FXAAplZLBkxS0IfvZ93hqEBNr7F%7E4KNAKKWrXet-5G0HL%7E37oNl5FX3NRKURHfKsp2OXoOFkylZAmo2OlSjLDMh16vGoLRcADWLivn36wDMel9ksHe-5oSaxhs6GXHiENqRlPlbuFkA23TC7flTTOATKoGcQgeLpA8JhI6NP8G9amyTibnWKd6XV%7EWXW4Xk477KJo8u5sCViiNPdLWPpqK9ilhh%7EFnlTfl75FwT6o9E3XrI22NtuMx1xFbm%7ED8M1URAPSCzDNDcM9zwaNqnWSoev7Bbaye1Tz6Qm-UBikB9EoyFeXlenO-jbO344a7Drlqrn8zHyg__&Key-Pair-Id=K24J24Z295AEI9: HTTPSConnectionPool(host='cdn-lfs-us-1.hf.co', port=443): Read timed out.\n",
      "Trying to resume download...\n"
     ]
    },
    {
     "data": {
      "application/vnd.jupyter.widget-view+json": {
       "model_id": "11d9d73a88f447dc8e685dee048e3681",
       "version_major": 2,
       "version_minor": 0
      },
      "text/plain": [
       "tokenizer.model:   0%|          | 0.00/4.69M [00:00<?, ?B/s]"
      ]
     },
     "metadata": {},
     "output_type": "display_data"
    },
    {
     "name": "stderr",
     "output_type": "stream",
     "text": [
      "Error while downloading from https://cdn-lfs-us-1.hf.co/repos/3d/df/3ddf3ad8b796b6d5ada0850f03115c053532413d0d668c795d595ebcf54cd23e/359b85680f8fe50feedb13cb3d7044f6cd690a967b4c07cb0c24201b0ae7fd87?response-content-disposition=inline%3B+filename*%3DUTF-8%27%27model-00001-of-00002.safetensors%3B+filename%3D%22model-00001-of-00002.safetensors%22%3B&Expires=1748266260&Policy=eyJTdGF0ZW1lbnQiOlt7IkNvbmRpdGlvbiI6eyJEYXRlTGVzc1RoYW4iOnsiQVdTOkVwb2NoVGltZSI6MTc0ODI2NjI2MH19LCJSZXNvdXJjZSI6Imh0dHBzOi8vY2RuLWxmcy11cy0xLmhmLmNvL3JlcG9zLzNkL2RmLzNkZGYzYWQ4Yjc5NmI2ZDVhZGEwODUwZjAzMTE1YzA1MzUzMjQxM2QwZDY2OGM3OTVkNTk1ZWJjZjU0Y2QyM2UvMzU5Yjg1NjgwZjhmZTUwZmVlZGIxM2NiM2Q3MDQ0ZjZjZDY5MGE5NjdiNGMwN2NiMGMyNDIwMWIwYWU3ZmQ4Nz9yZXNwb25zZS1jb250ZW50LWRpc3Bvc2l0aW9uPSoifV19&Signature=kZlaBN5Xr9RH9BQADscFw3v6kyuIHGDuTbjyKckqwxXWKI3p-HXph0t-LyffQfEHBACy9tdHZGNXP6jMmMSg7mMx-eaJlo%7EIIO3vsTl2LP19C682OsrwGjPl1lUEPiQPC1E6E37u4Q8mmvYTq2ITG9MFxWargCJjg5A0ONF7psFiKGMkwE39BtiDSkztOVjW6PcaYUxnX26yMiFzRCrslbgpLqMa4cghQwORhyisE3%7EQUp6p0kJvggXZaNT6DpBLj14GTOU53%7ENWk8MtEtGvgHGdF4Gd5Yer9HixC-8aUKP40-6Rc0OXq7UpNAvSSXyZXT52MvKxSQiBvOGmyl79CQ__&Key-Pair-Id=K24J24Z295AEI9: HTTPSConnectionPool(host='cdn-lfs-us-1.hf.co', port=443): Read timed out.\n",
      "Trying to resume download...\n"
     ]
    },
    {
     "data": {
      "application/vnd.jupyter.widget-view+json": {
       "model_id": "801cc99131ff445bbea2af8fe43fe036",
       "version_major": 2,
       "version_minor": 0
      },
      "text/plain": [
       "model-00001-of-00002.safetensors:   1%|1         | 52.4M/5.01G [00:00<?, ?B/s]"
      ]
     },
     "metadata": {},
     "output_type": "display_data"
    }
   ],
   "source": [
    "from mlx_lm import load, generate\n",
    "\n",
    "model_name = \"google/medgemma-4b-it\"\n",
    "medgemma_model, tokenizer = load(model_name)"
   ]
  },
  {
   "cell_type": "code",
   "execution_count": 8,
   "id": "fc2e6e5f",
   "metadata": {},
   "outputs": [],
   "source": [
    "# --- NER Function ---\n",
    "def perform_ner(text_note, model, label_list):\n",
    "  \"\"\"Performs NER on a text using, gliner model, and label list.\n",
    "      https://huggingface.co/Ihor/gliner-biomed-bi-large-v1.0\n",
    "  \"\"\"\n",
    "\n",
    "  entities = model.predict_entities(\n",
    "      text_note,\n",
    "      labels=label_list,\n",
    "      threshold=0.5,\n",
    "  )\n",
    "\n",
    "  return entities"
   ]
  },
  {
   "cell_type": "code",
   "execution_count": 9,
   "id": "97591d2b",
   "metadata": {},
   "outputs": [],
   "source": [
    "import wikipedia\n",
    "\n",
    "def fetch_entity_descriptions(entity):\n",
    "    \"\"\"Fetch description of entity['text'] from Wikipedia knowledge base\n",
    "    \n",
    "    Args:\n",
    "        entity (dict): Entity dictionary containing 'text' and other fields\n",
    "\n",
    "    Returns:\n",
    "        dict or None: Returns the entity with added description if found, None otherwise\n",
    "    \"\"\"\n",
    "    try:\n",
    "        \n",
    "        # Get entity text\n",
    "        query = entity['text']\n",
    "        \n",
    "        # Try to get a summary from Wikipedia\n",
    "        try:\n",
    "            # Search for the page\n",
    "            search_results = wikipedia.search(query, results=1)\n",
    "            if search_results:\n",
    "                # Get the page summary\n",
    "                page = wikipedia.page(search_results[0], auto_suggest=False)\n",
    "                description = page.summary[0:200] + \"...\" if len(page.summary) > 200 else page.summary\n",
    "                \n",
    "                # Add description to entity\n",
    "                entity['description'] = description\n",
    "                entity['wiki_page'] = page.url\n",
    "                return entity\n",
    "        except (wikipedia.exceptions.DisambiguationError, wikipedia.exceptions.PageError):\n",
    "            # Entity not found or ambiguous\n",
    "            pass\n",
    "\n",
    "        return None  # Will be filtered out\n",
    "    except Exception as e:\n",
    "        print(f\"Error fetching description for {entity['text']}: {str(e)}\")\n",
    "        return None\n",
    "\n"
   ]
  },
  {
   "cell_type": "code",
   "execution_count": 10,
   "id": "0603f00f",
   "metadata": {},
   "outputs": [
    {
     "name": "stderr",
     "output_type": "stream",
     "text": [
      "Asking to truncate to max_length but no maximum length is provided and the model has no predefined maximum length. Default to no truncation.\n"
     ]
    },
    {
     "name": "stdout",
     "output_type": "stream",
     "text": [
      "Processing note 155216 (1/5)...\n",
      "Extracted 26 entities from note 155216.\n",
      "==========\n",
      "Here are some triplets extracted from the clinical note:\n",
      "\n",
      "[\n",
      "    ('neck', 'is part of', 'body'),\n",
      "    ('lower back', 'is part of', 'body'),\n",
      "    ('lumbar region', 'is part of', 'body'),\n",
      "    ('olanzapine tablets', 'treats', 'bipolar affective disorder'),\n",
      "    ('olanzapine tablets', 'treats', 'schizophrenia'),\n",
      "    ('olanzapine tablets', 'treats', 'aggressive and self-injurious behaviors'),\n",
      "    ('olanzapine tablets', 'causes', 'neck pain'),\n",
      "    ('olanzapine tablets', 'causes', 'abnormal neck muscle contraction'),\n",
      "    ('olanzapine tablets', 'causes', 'head turning'),\n",
      "    ('olanzapine tablets', 'causes', 'back bending'),\n",
      "    ('olanzapine tablets', 'causes', 'limbs in specific position'),\n",
      "    ('olanzapine tablets', 'causes', 'assistance in standing and walking'),\n",
      "    ('olanzapine tablets', 'causes', 'parents to help with daily chores'),\n",
      "    ('olanzapine tablets', 'causes', 'amenorrhea'),\n",
      "    ('olanzapine tablets', 'causes', 'hyp\n",
      "==========\n",
      "Prompt: 4871 tokens, 1821.892 tokens-per-sec\n",
      "Generation: 256 tokens, 48.713 tokens-per-sec\n",
      "Peak memory: 8.927 GB\n",
      "Note 155216: Processed successfully with 25 entities.\n",
      "Processing note 77465 (2/5)...\n",
      "Extracted 19 entities from note 77465.\n",
      "==========\n",
      "```json\n",
      "[\n",
      "  (\"right back\", \"complaining of\", \"pain\"),\n",
      "  (\"right back\", \"swelling\", \"right back\"),\n",
      "  (\"patient\", \"state\", \"good\"),\n",
      "  (\"patient\", \"activity\", \"active\"),\n",
      "  (\"patient\", \"past health problem\", \"thoracic trauma\"),\n",
      "  (\"thoracic trauma\", \"diagnosis\", \"simple fracture of the 9th right rib\"),\n",
      "  (\"X-ray\", \"showed\", \"shadow in the lower part of the right hemithorax\"),\n",
      "  (\"CT-scan\", \"revealed\", \"tumor of the thoracic wall in the right hemithorax\"),\n",
      "  (\"tumor\", \"measured\", \"8 × 4 cm\"),\n",
      "  (\"tumor\", \"involved\", \"9th rib\"),\n",
      "  (\"tumor\", \"lying in\", \"two adjacent intercostal spaces\"),\n",
      "  (\"lung\", \"involved\", \"tumor\"),\n",
      "  (\"lung\", \"muscular layers\", \"without involving\"),\n",
      "  (\"lung window\", \"seen\", \"micronodular infiltrations\"),\n",
      "  (\"lung\", \"infiltrations\", \"micronodular\"),\n",
      "  (\"lung\", \"diameter\", \"up to 5 mm\"),\n",
      "==========\n",
      "Prompt: 2982 tokens, 1809.530 tokens-per-sec\n",
      "Generation: 256 tokens, 52.862 tokens-per-sec\n",
      "Peak memory: 8.949 GB\n",
      "Note 77465: Processed successfully with 18 entities.\n",
      "Processing note 133948 (3/5)...\n",
      "Extracted 30 entities from note 133948.\n"
     ]
    },
    {
     "name": "stderr",
     "output_type": "stream",
     "text": [
      "/Users/tunji/projects/unidlorraine/thesis/src/.venv/lib/python3.11/site-packages/wikipedia/wikipedia.py:389: GuessedAtParserWarning: No parser was explicitly specified, so I'm using the best available HTML parser for this system (\"html.parser\"). This usually isn't a problem, but if you run this code on another system, or in a different virtual environment, it may use a different parser and behave differently.\n",
      "\n",
      "The code that caused this warning is on line 389 of the file /Users/tunji/projects/unidlorraine/thesis/src/.venv/lib/python3.11/site-packages/wikipedia/wikipedia.py. To get rid of this warning, pass the additional argument 'features=\"html.parser\"' to the BeautifulSoup constructor.\n",
      "\n",
      "  lis = BeautifulSoup(html).find_all('li')\n"
     ]
    },
    {
     "name": "stdout",
     "output_type": "stream",
     "text": [
      "==========\n",
      "Here are some triplets extracted from the clinical note:\n",
      "\n",
      "[\n",
      "    ('left hip joint', 'affected by', 'idiopathic osteonecrosis of the femoral head'),\n",
      "    ('left hip', 'underwent', 'THA'),\n",
      "    ('left hip', 'underwent', 'second THA'),\n",
      "    ('contralateral side', 'affected by', 'idiopathic osteonecrosis of the femoral head'),\n",
      "    ('left hip', 'underwent', 'Repeat MRI'),\n",
      "    ('left hip', 'underwent', 'second surgery'),\n",
      "    ('contralateral hip joint', 'affected by', 'idiopathic osteonecrosis of the femoral head'),\n",
      "    ('contralateral hip joint', 'underwent', 'second surgery'),\n",
      "    ('second surgery', 'performed on', 'contralateral hip joint'),\n",
      "    ('second surgery', 'performed on', 'contralateral hip joint'),\n",
      "    ('second surgery', 'performed on', 'contralateral hip joint'),\n",
      "    ('second surgery', 'performed on', 'contralateral hip joint'),\n",
      "    ('second surgery', 'performed on', 'contralateral hip joint'),\n",
      "    ('second surgery', 'performed on', 'contralateral hip joint'),\n",
      "==========\n",
      "Prompt: 4498 tokens, 1839.941 tokens-per-sec\n",
      "Generation: 256 tokens, 52.990 tokens-per-sec\n",
      "Peak memory: 8.949 GB\n",
      "Note 133948: Processed successfully with 28 entities.\n",
      "Processing complete. Check src/data/ner_output.txt for results.\n"
     ]
    }
   ],
   "source": [
    "file_path = \"data/ner_output.txt\"\n",
    "\n",
    "# Clear previous contents if needed\n",
    "with open(file_path, \"w\") as f:\n",
    "  f.write(\"Starting extraction process\\n\")\n",
    "  f.write(\"=\"*50 + \"\\n\\n\")\n",
    "\n",
    "# Process a limited number of samples for testing\n",
    "for i, sample_item in enumerate(dataset):\n",
    "  try:\n",
    "    # Limit to first 5 samples for testing\n",
    "    if i >= 3:\n",
    "      break\n",
    "      \n",
    "    note_id = sample_item['idx']\n",
    "    full_note_content = sample_item['full_note']\n",
    "\n",
    "    print(f\"Processing note {note_id} ({i+1}/5)...\")\n",
    "\n",
    "    if not full_note_content or not full_note_content.strip():\n",
    "      print(f\"Note {note_id}: Skipped (empty).\")\n",
    "      continue\n",
    "      \n",
    "    # Perform NER\n",
    "    # TODO: Run NER in parallel for all notes like Entity Linking??\n",
    "    extracted_entities = perform_ner(full_note_content, gliner_model, labels)\n",
    "\n",
    "    # Remove duplicate entities\n",
    "    extracted_entities = list({entity['text']: entity for entity in extracted_entities}.values())\n",
    "    print(f\"Extracted {len(extracted_entities)} entities from note {note_id}.\")\n",
    "    if not extracted_entities:\n",
    "      print(f\"Note {note_id}: No entities extracted.\")\n",
    "      continue\n",
    "    # Entity Linking\n",
    "    extracted_entities = list(filter(fetch_entity_descriptions, extracted_entities))\n",
    "\n",
    "    \n",
    "    # Convert entities to documents\n",
    "    # extracted_entities = list(map(convert_entities_to_documents, extracted_entities))\n",
    "\n",
    "    # Entity linking\n",
    "    # relik_relation_extracted_output: RelikOutput = relik_relation_extract(\n",
    "    #   text=full_note_content,\n",
    "    #   candidates=extracted_entities,\n",
    "    # )\n",
    "\n",
    "\n",
    "    prompt = f\"\"\" I would like you to perform a Closed Information Extraction task on the following clinical note {full_note_content}\n",
    "    You are provided with a list of entities extracted from the note in the form of JSON objects. {extracted_entities}\n",
    "    Your task is to reason about the entities provided and the full clinical note content, and generate triplets of the form (entity1, relation, entity2)\n",
    "    that represent the relationships between the entities in the note.\n",
    "    Please return the triplets in the following format:\n",
    "    [\n",
    "        (entity1, relation, entity2),\n",
    "        (entity1, relation, entity2),\n",
    "        ...\n",
    "    ]\n",
    "    \"\"\"\n",
    "    messages = [\n",
    "            {\n",
    "                \"role\": \"system\",\n",
    "                \"content\": \"You are a helpful medical assistant.\"\n",
    "            },\n",
    "            {\n",
    "                \"role\": \"user\",\n",
    "                \"content\": prompt\n",
    "            }]\n",
    "    inputs = tokenizer.apply_chat_template(\n",
    "        messages, add_generation_prompt=True\n",
    "    )\n",
    "\n",
    "    # Generate text with MLX model\n",
    "    generation = generate(\n",
    "        medgemma_model,\n",
    "        tokenizer,\n",
    "        prompt=inputs,\n",
    "        verbose=True,\n",
    "    )\n",
    "\n",
    "    # decoded = tokenizer.decode(generation)\n",
    "    # print(generation)\n",
    "\n",
    "    # Write to file\n",
    "    with open(file_path, \"a\") as f:\n",
    "      f.write(f\"Note ID: {note_id}\\n\")\n",
    "      f.write(f\"Full Note Content (excerpt): {full_note_content[:500]}...\\n\")\n",
    "\n",
    "      # Print some entity examples if available\n",
    "      if extracted_entities:\n",
    "        f.write(\"Entity Examples:\\n\")\n",
    "        f.write(f\"Number of Extracted Entities: {len(extracted_entities)}\\n\")\n",
    "        f.write(f\"  - {extracted_entities[:5]}\\n\")\n",
    "\n",
    "      if generation:\n",
    "        f.write(\"Generated Triplets:\\n\")\n",
    "        f.write(f\" Number of Triplets: {len(generation)}\\n\")\n",
    "        f.write(f\"  - {generation}\\n\")\n",
    "\n",
    "      f.write(\"\\n\" + \"=\"*50 + \"\\n\")\n",
    "\n",
    "    print(f\"Note {note_id}: Processed successfully with {len(extracted_entities)} entities.\")\n",
    "\n",
    "  except Exception as e:\n",
    "    print(f\"Error processing note: {str(e)}\")\n",
    "    traceback.print_exc()\n",
    "\n",
    "    # Log the error\n",
    "    with open(file_path, \"a\") as f:\n",
    "      f.write(f\"ERROR processing note {note_id if 'note_id' in locals() else 'unknown'}: {str(e)}\\n\")\n",
    "      f.write(traceback.format_exc())\n",
    "      f.write(\"\\n\" + \"=\"*50 + \"\\n\")\n",
    "\n",
    "print(\"Processing complete. Check src/data/ner_output.txt for results.\")"
   ]
  },
  {
   "cell_type": "code",
   "execution_count": null,
   "id": "a5fe5a23",
   "metadata": {},
   "outputs": [],
   "source": []
  }
 ],
 "metadata": {
  "kernelspec": {
   "display_name": ".venv",
   "language": "python",
   "name": "python3"
  },
  "language_info": {
   "codemirror_mode": {
    "name": "ipython",
    "version": 3
   },
   "file_extension": ".py",
   "mimetype": "text/x-python",
   "name": "python",
   "nbconvert_exporter": "python",
   "pygments_lexer": "ipython3",
   "version": "3.11.12"
  }
 },
 "nbformat": 4,
 "nbformat_minor": 5
}
