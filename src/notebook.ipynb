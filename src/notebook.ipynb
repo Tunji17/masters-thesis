{
 "cells": [
  {
   "cell_type": "markdown",
   "id": "40e3e5db",
   "metadata": {},
   "source": [
    "# Multi Agent Reinforcement Learning Information Extraction\n",
    "\n",
    "## Agents\n",
    "-> **Structured Information Retrieval**: A model that uses a structured approach to extract information from unstructured data. (Numind)\n",
    "- **Name Entity Recognition**: A model that identifies and classifies named entities in text into predefined categories\n",
    "  (e.g., person names, organizations, locations). (Spacy)\n",
    "- **Relation Extraction**: A model that identifies and classifies relationships between entities in text. (Spacy)\n",
    "\n",
    "## Reinforcement Learning??\n",
    "-> **Agent Relationship**: The relationship between the agent and the environment, where the agent interacts with the environment to learn and improve its performance.\n",
    "- Cooperative setting - All agents share the aligning goal.\n",
    "- Adversarial setting - Agents have dichotomous goals.\n",
    "- Mixed setting - Agents have varying goals.\n",
    "\n",
    "\n",
    "## Reward Functions\n",
    "- **Syntax Reward**: A reward function that evaluates the syntactic correctness of the generated text."
   ]
  },
  {
   "cell_type": "code",
   "execution_count": null,
   "id": "0b2acb4c",
   "metadata": {},
   "outputs": [],
   "source": [
    "# Recieve user unstructured data input\n",
    "\n",
    "\n",
    "# Start Agent loop (https://ampcode.com/how-to-build-an-agent)\n",
    "\n",
    "\n",
    "# NER - Named Entity Recognition probably using spacy\n",
    "\n",
    "\n",
    "# Relation Extraction - using OpenIE or similar\n",
    "\n",
    "# Generate prompt for LLM to generate cypher query\n",
    "# using LangChain or similar\n",
    "\n",
    "# Generate prompt for visualizing the graph with Neo4j\n",
    "\n",
    "# Finalize the graph and display it"
   ]
  }
 ],
 "metadata": {
  "language_info": {
   "name": "python"
  }
 },
 "nbformat": 4,
 "nbformat_minor": 5
}
